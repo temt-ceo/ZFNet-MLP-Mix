{
 "cells": [
  {
   "cell_type": "markdown",
   "metadata": {},
   "source": [
    "### ◉research question\n",
    "**Improving Newral Network by modifying hyper parameter and layers**\n",
    "* I will test how the results are changing by changing a series of model patterns using keras.\n",
    "* The dataset is the volumes of construction materials which is used to compose concrete, such as cement and water.\n",
    "* The strength of concrete is the target value, and I will predict and research the y-hat value by regression model and mean_squared_error value.\n",
    "* This dataset also includes age of concrete mix even though age is important value for strength.\n",
    "\n",
    "### ◉the region and the domain category that this data sets are about\n",
    "**USA, construction materials**\n"
   ]
  },
  {
   "cell_type": "code",
   "execution_count": 1,
   "metadata": {
    "_cell_guid": "79c7e3d0-c299-4dcb-8224-4455121ee9b0",
    "_uuid": "d629ff2d2480ee46fbb7e2d37f6b5fab8052498a"
   },
   "outputs": [],
   "source": [
    "import numpy as np\n",
    "import pandas as pd\n",
    "import tensorflow as tf"
   ]
  },
  {
   "cell_type": "code",
   "execution_count": 3,
   "metadata": {},
   "outputs": [
    {
     "name": "stdout",
     "output_type": "stream",
     "text": [
      "(1030, 9)\n",
      "   Cement  Blast Furnace Slag  Fly Ash  Water  Superplasticizer  \\\n",
      "0   540.0                 0.0      0.0  162.0               2.5   \n",
      "1   540.0                 0.0      0.0  162.0               2.5   \n",
      "2   332.5               142.5      0.0  228.0               0.0   \n",
      "3   332.5               142.5      0.0  228.0               0.0   \n",
      "4   198.6               132.4      0.0  192.0               0.0   \n",
      "\n",
      "   Coarse Aggregate  Fine Aggregate  Age  Strength  \n",
      "0            1040.0           676.0   28     79.99  \n",
      "1            1055.0           676.0   28     61.89  \n",
      "2             932.0           594.0  270     40.27  \n",
      "3             932.0           594.0  365     41.05  \n",
      "4             978.4           825.5  360     44.30  \n"
     ]
    },
    {
     "data": {
      "text/html": [
       "<div>\n",
       "<style scoped>\n",
       "    .dataframe tbody tr th:only-of-type {\n",
       "        vertical-align: middle;\n",
       "    }\n",
       "\n",
       "    .dataframe tbody tr th {\n",
       "        vertical-align: top;\n",
       "    }\n",
       "\n",
       "    .dataframe thead th {\n",
       "        text-align: right;\n",
       "    }\n",
       "</style>\n",
       "<table border=\"1\" class=\"dataframe\">\n",
       "  <thead>\n",
       "    <tr style=\"text-align: right;\">\n",
       "      <th></th>\n",
       "      <th>Cement</th>\n",
       "      <th>Blast Furnace Slag</th>\n",
       "      <th>Fly Ash</th>\n",
       "      <th>Water</th>\n",
       "      <th>Superplasticizer</th>\n",
       "      <th>Coarse Aggregate</th>\n",
       "      <th>Fine Aggregate</th>\n",
       "      <th>Age</th>\n",
       "      <th>Strength</th>\n",
       "    </tr>\n",
       "  </thead>\n",
       "  <tbody>\n",
       "    <tr>\n",
       "      <th>count</th>\n",
       "      <td>1030.000000</td>\n",
       "      <td>1030.000000</td>\n",
       "      <td>1030.000000</td>\n",
       "      <td>1030.000000</td>\n",
       "      <td>1030.000000</td>\n",
       "      <td>1030.000000</td>\n",
       "      <td>1030.000000</td>\n",
       "      <td>1030.000000</td>\n",
       "      <td>1030.000000</td>\n",
       "    </tr>\n",
       "    <tr>\n",
       "      <th>mean</th>\n",
       "      <td>281.167864</td>\n",
       "      <td>73.895825</td>\n",
       "      <td>54.188350</td>\n",
       "      <td>181.567282</td>\n",
       "      <td>6.204660</td>\n",
       "      <td>972.918932</td>\n",
       "      <td>773.580485</td>\n",
       "      <td>45.662136</td>\n",
       "      <td>35.817961</td>\n",
       "    </tr>\n",
       "    <tr>\n",
       "      <th>std</th>\n",
       "      <td>104.506364</td>\n",
       "      <td>86.279342</td>\n",
       "      <td>63.997004</td>\n",
       "      <td>21.354219</td>\n",
       "      <td>5.973841</td>\n",
       "      <td>77.753954</td>\n",
       "      <td>80.175980</td>\n",
       "      <td>63.169912</td>\n",
       "      <td>16.705742</td>\n",
       "    </tr>\n",
       "    <tr>\n",
       "      <th>min</th>\n",
       "      <td>102.000000</td>\n",
       "      <td>0.000000</td>\n",
       "      <td>0.000000</td>\n",
       "      <td>121.800000</td>\n",
       "      <td>0.000000</td>\n",
       "      <td>801.000000</td>\n",
       "      <td>594.000000</td>\n",
       "      <td>1.000000</td>\n",
       "      <td>2.330000</td>\n",
       "    </tr>\n",
       "    <tr>\n",
       "      <th>25%</th>\n",
       "      <td>192.375000</td>\n",
       "      <td>0.000000</td>\n",
       "      <td>0.000000</td>\n",
       "      <td>164.900000</td>\n",
       "      <td>0.000000</td>\n",
       "      <td>932.000000</td>\n",
       "      <td>730.950000</td>\n",
       "      <td>7.000000</td>\n",
       "      <td>23.710000</td>\n",
       "    </tr>\n",
       "    <tr>\n",
       "      <th>50%</th>\n",
       "      <td>272.900000</td>\n",
       "      <td>22.000000</td>\n",
       "      <td>0.000000</td>\n",
       "      <td>185.000000</td>\n",
       "      <td>6.400000</td>\n",
       "      <td>968.000000</td>\n",
       "      <td>779.500000</td>\n",
       "      <td>28.000000</td>\n",
       "      <td>34.445000</td>\n",
       "    </tr>\n",
       "    <tr>\n",
       "      <th>75%</th>\n",
       "      <td>350.000000</td>\n",
       "      <td>142.950000</td>\n",
       "      <td>118.300000</td>\n",
       "      <td>192.000000</td>\n",
       "      <td>10.200000</td>\n",
       "      <td>1029.400000</td>\n",
       "      <td>824.000000</td>\n",
       "      <td>56.000000</td>\n",
       "      <td>46.135000</td>\n",
       "    </tr>\n",
       "    <tr>\n",
       "      <th>max</th>\n",
       "      <td>540.000000</td>\n",
       "      <td>359.400000</td>\n",
       "      <td>200.100000</td>\n",
       "      <td>247.000000</td>\n",
       "      <td>32.200000</td>\n",
       "      <td>1145.000000</td>\n",
       "      <td>992.600000</td>\n",
       "      <td>365.000000</td>\n",
       "      <td>82.600000</td>\n",
       "    </tr>\n",
       "  </tbody>\n",
       "</table>\n",
       "</div>"
      ],
      "text/plain": [
       "            Cement  Blast Furnace Slag      Fly Ash        Water  \\\n",
       "count  1030.000000         1030.000000  1030.000000  1030.000000   \n",
       "mean    281.167864           73.895825    54.188350   181.567282   \n",
       "std     104.506364           86.279342    63.997004    21.354219   \n",
       "min     102.000000            0.000000     0.000000   121.800000   \n",
       "25%     192.375000            0.000000     0.000000   164.900000   \n",
       "50%     272.900000           22.000000     0.000000   185.000000   \n",
       "75%     350.000000          142.950000   118.300000   192.000000   \n",
       "max     540.000000          359.400000   200.100000   247.000000   \n",
       "\n",
       "       Superplasticizer  Coarse Aggregate  Fine Aggregate          Age  \\\n",
       "count       1030.000000       1030.000000     1030.000000  1030.000000   \n",
       "mean           6.204660        972.918932      773.580485    45.662136   \n",
       "std            5.973841         77.753954       80.175980    63.169912   \n",
       "min            0.000000        801.000000      594.000000     1.000000   \n",
       "25%            0.000000        932.000000      730.950000     7.000000   \n",
       "50%            6.400000        968.000000      779.500000    28.000000   \n",
       "75%           10.200000       1029.400000      824.000000    56.000000   \n",
       "max           32.200000       1145.000000      992.600000   365.000000   \n",
       "\n",
       "          Strength  \n",
       "count  1030.000000  \n",
       "mean     35.817961  \n",
       "std      16.705742  \n",
       "min       2.330000  \n",
       "25%      23.710000  \n",
       "50%      34.445000  \n",
       "75%      46.135000  \n",
       "max      82.600000  "
      ]
     },
     "execution_count": 3,
     "metadata": {},
     "output_type": "execute_result"
    }
   ],
   "source": [
    "#### Download the concrete data\n",
    "concrete_data = pd.read_csv('https://cocl.us/concrete_data')\n",
    "print(concrete_data.shape)\n",
    "print(concrete_data.head()) # By the way, unit is 'cubic meter' and days old of concrete mix, and unit of strength is MPa.\n",
    "concrete_data.describe()"
   ]
  },
  {
   "cell_type": "code",
   "execution_count": 4,
   "metadata": {},
   "outputs": [
    {
     "data": {
      "text/plain": [
       "Cement                0\n",
       "Blast Furnace Slag    0\n",
       "Fly Ash               0\n",
       "Water                 0\n",
       "Superplasticizer      0\n",
       "Coarse Aggregate      0\n",
       "Fine Aggregate        0\n",
       "Age                   0\n",
       "Strength              0\n",
       "dtype: int64"
      ]
     },
     "execution_count": 4,
     "metadata": {},
     "output_type": "execute_result"
    }
   ],
   "source": [
    "concrete_data.isnull().sum() # Looks very clean data."
   ]
  },
  {
   "cell_type": "code",
   "execution_count": 5,
   "metadata": {},
   "outputs": [],
   "source": [
    "df = concrete_data\n",
    "cols = df.columns\n",
    "X = df[cols[cols != 'Strength']]\n",
    "y = df['Strength']"
   ]
  },
  {
   "cell_type": "code",
   "execution_count": 7,
   "metadata": {
    "_cell_guid": "",
    "_uuid": ""
   },
   "outputs": [
    {
     "name": "stderr",
     "output_type": "stream",
     "text": [
      "Using TensorFlow backend.\n"
     ]
    }
   ],
   "source": [
    "# To get reproducible results I'm setting random seed\n",
    "np.random.seed(1)\n",
    "tf.set_random_seed(1)\n",
    "import keras\n",
    "from sklearn.model_selection import train_test_split\n",
    "from sklearn.metrics import mean_squared_error\n",
    "from keras.models import Sequential\n",
    "from keras.layers import Dense\n",
    "test_size = 0.3\n",
    "def random_data_split(X, y, seed):\n",
    "    X_train, X_test, y_train, y_test = train_test_split(X, y, test_size=test_size, random_state=seed)\n",
    "    return X_train, X_test, y_train, y_test"
   ]
  },
  {
   "cell_type": "markdown",
   "metadata": {},
   "source": [
    "## Step 1. Without Normalization"
   ]
  },
  {
   "cell_type": "code",
   "execution_count": 8,
   "metadata": {},
   "outputs": [
    {
     "name": "stdout",
     "output_type": "stream",
     "text": [
      "WARNING:tensorflow:From /opt/conda/envs/Python36/lib/python3.6/site-packages/tensorflow/python/framework/op_def_library.py:263: colocate_with (from tensorflow.python.framework.ops) is deprecated and will be removed in a future version.\n",
      "Instructions for updating:\n",
      "Colocations handled automatically by placer.\n",
      "WARNING:tensorflow:From /opt/conda/envs/Python36/lib/python3.6/site-packages/tensorflow/python/ops/math_ops.py:3066: to_int32 (from tensorflow.python.ops.math_ops) is deprecated and will be removed in a future version.\n",
      "Instructions for updating:\n",
      "Use tf.cast instead.\n",
      "Now 10 times calculating.\n",
      "Now 20 times calculating.\n",
      "Now 30 times calculating.\n",
      "Now 40 times calculating.\n",
      "Now 50 times calculating.\n",
      "Mean value of MSE:371.43, Standard Deviation value of MSE:404.41. First three MSE values: [166.50599869764798, 122.36743217950497, 426.8731537646722]\n",
      "Acctual Value samples [26.06 10.35 79.3 ] Predicted Value samples [44.94  6.79 61.45]\n"
     ]
    }
   ],
   "source": [
    "# baseline model (One hidden layer 10 nodes, 50 epochs)\n",
    "mse_list = []\n",
    "predicted_list = {}\n",
    "def create_baseline_model():\n",
    "    baseline_model = Sequential()\n",
    "    baseline_model.add(Dense(10, activation='relu', input_shape=(X.shape[1],)))\n",
    "    baseline_model.add(Dense(1))\n",
    "    baseline_model.compile(optimizer='adam', loss='mean_squared_error')\n",
    "    return baseline_model\n",
    "\n",
    "# collect 50 mse values.\n",
    "for i in range(50):\n",
    "    if (i + 1) % 10 == 0:\n",
    "        print('Now {} times calculating.'.format(i + 1))\n",
    "    model = create_baseline_model()\n",
    "    X_train, X_test, y_train, y_test = random_data_split(X, y, i)\n",
    "    model.fit(X_train, y_train, epochs=50, verbose=0)\n",
    "    y_hats = model.predict(X_test)\n",
    "    mse = mean_squared_error(y_test, y_hats)\n",
    "    mse_list.append(mse)\n",
    "    predicted_list[i] = {'y_test': y_test, 'y_hats': y_hats}\n",
    "\n",
    "# Calculate mean and standard deviation of mse values\n",
    "mse_mean = np.mean(mse_list)\n",
    "mse_std = np.std(mse_list)\n",
    "print('Mean value of MSE:{:.2f}, Standard Deviation value of MSE:{:.2f}.'.format(mse_mean, mse_std), 'First three MSE values:', mse_list[0:3])\n",
    "print('Acctual Value samples', predicted_list[0]['y_test'].values[0:3], 'Predicted Value samples', np.around(predicted_list[0]['y_hats'].flatten()[0:3], decimals=2))"
   ]
  },
  {
   "cell_type": "markdown",
   "metadata": {},
   "source": [
    "## Step 2. With Normalization"
   ]
  },
  {
   "cell_type": "code",
   "execution_count": 9,
   "metadata": {},
   "outputs": [
    {
     "data": {
      "text/html": [
       "<div>\n",
       "<style scoped>\n",
       "    .dataframe tbody tr th:only-of-type {\n",
       "        vertical-align: middle;\n",
       "    }\n",
       "\n",
       "    .dataframe tbody tr th {\n",
       "        vertical-align: top;\n",
       "    }\n",
       "\n",
       "    .dataframe thead th {\n",
       "        text-align: right;\n",
       "    }\n",
       "</style>\n",
       "<table border=\"1\" class=\"dataframe\">\n",
       "  <thead>\n",
       "    <tr style=\"text-align: right;\">\n",
       "      <th></th>\n",
       "      <th>Cement</th>\n",
       "      <th>Blast Furnace Slag</th>\n",
       "      <th>Fly Ash</th>\n",
       "      <th>Water</th>\n",
       "      <th>Superplasticizer</th>\n",
       "      <th>Coarse Aggregate</th>\n",
       "      <th>Fine Aggregate</th>\n",
       "      <th>Age</th>\n",
       "    </tr>\n",
       "  </thead>\n",
       "  <tbody>\n",
       "    <tr>\n",
       "      <th>0</th>\n",
       "      <td>2.476712</td>\n",
       "      <td>-0.856472</td>\n",
       "      <td>-0.846733</td>\n",
       "      <td>-0.916319</td>\n",
       "      <td>-0.620147</td>\n",
       "      <td>0.862735</td>\n",
       "      <td>-1.217079</td>\n",
       "      <td>-0.279597</td>\n",
       "    </tr>\n",
       "    <tr>\n",
       "      <th>1</th>\n",
       "      <td>2.476712</td>\n",
       "      <td>-0.856472</td>\n",
       "      <td>-0.846733</td>\n",
       "      <td>-0.916319</td>\n",
       "      <td>-0.620147</td>\n",
       "      <td>1.055651</td>\n",
       "      <td>-1.217079</td>\n",
       "      <td>-0.279597</td>\n",
       "    </tr>\n",
       "    <tr>\n",
       "      <th>2</th>\n",
       "      <td>0.491187</td>\n",
       "      <td>0.795140</td>\n",
       "      <td>-0.846733</td>\n",
       "      <td>2.174405</td>\n",
       "      <td>-1.038638</td>\n",
       "      <td>-0.526262</td>\n",
       "      <td>-2.239829</td>\n",
       "      <td>3.551340</td>\n",
       "    </tr>\n",
       "  </tbody>\n",
       "</table>\n",
       "</div>"
      ],
      "text/plain": [
       "     Cement  Blast Furnace Slag   Fly Ash     Water  Superplasticizer  \\\n",
       "0  2.476712           -0.856472 -0.846733 -0.916319         -0.620147   \n",
       "1  2.476712           -0.856472 -0.846733 -0.916319         -0.620147   \n",
       "2  0.491187            0.795140 -0.846733  2.174405         -1.038638   \n",
       "\n",
       "   Coarse Aggregate  Fine Aggregate       Age  \n",
       "0          0.862735       -1.217079 -0.279597  \n",
       "1          1.055651       -1.217079 -0.279597  \n",
       "2         -0.526262       -2.239829  3.551340  "
      ]
     },
     "execution_count": 9,
     "metadata": {},
     "output_type": "execute_result"
    }
   ],
   "source": [
    "# In this time, I'm not doing any Normalization. So I'll Normalize continuous values (by subtracting the mean from the individual predictors and dividing by the standard deviation).\n",
    "X_norm = (X - X.mean()) / X.std()\n",
    "X_norm.head(3)"
   ]
  },
  {
   "cell_type": "code",
   "execution_count": 10,
   "metadata": {},
   "outputs": [
    {
     "name": "stdout",
     "output_type": "stream",
     "text": [
      "Now 10 times calculating.\n",
      "Now 20 times calculating.\n",
      "Now 30 times calculating.\n",
      "Now 40 times calculating.\n",
      "Now 50 times calculating.\n",
      "Mean value of MSE:368.42 and Standard Deviation value of MSE:109.70. First three MSE values: [305.8019837679617, 274.85300891628907, 480.3367304853561]\n",
      "Acctual Value samples [26.06 10.35 79.3 ] Predicted Value samples [34.55  9.84 43.54]\n"
     ]
    }
   ],
   "source": [
    "# Now I'm getting ready to examin how normalization can improve the baseline model (One hidden layer 10 nodes, 50 epochs)\n",
    "mse_list_norm = []\n",
    "predicted_list_norm = {}\n",
    "# collect 50 mse values.\n",
    "for i in range(50):\n",
    "    if (i + 1) % 10 == 0:\n",
    "        print('Now {} times calculating.'.format(i + 1))\n",
    "    model = create_baseline_model()\n",
    "    X_train, X_test, y_train, y_test = random_data_split(X_norm, y, i)\n",
    "    model.fit(X_train, y_train, epochs=50, verbose=0)\n",
    "    y_hats = model.predict(X_test)\n",
    "    mse = mean_squared_error(y_test, y_hats)\n",
    "    mse_list_norm.append(mse)\n",
    "    predicted_list_norm[i] = {'y_test': y_test, 'y_hats': y_hats}\n",
    "\n",
    "# Calculate mean and standard deviation of mse values\n",
    "mse_mean_norm = np.mean(mse_list_norm)\n",
    "mse_std_norm = np.std(mse_list_norm)\n",
    "print('Mean value of MSE:{:.2f} and Standard Deviation value of MSE:{:.2f}.'.format(mse_mean_norm, mse_std_norm), 'First three MSE values:', mse_list_norm[0:3])\n",
    "print('Acctual Value samples', predicted_list_norm[0]['y_test'].values[0:3], 'Predicted Value samples', np.around(predicted_list_norm[0]['y_hats'].flatten()[0:3], decimals=2))"
   ]
  },
  {
   "cell_type": "markdown",
   "metadata": {},
   "source": [
    "##### ■In my case, after I applied Normalization to X, I can get MSE value of 368 over the same baseline model.<br>So mean of 50 MSE values are only slightly getting better from 371 to 368.<br>But Standard Deviation is reducing dynamically from 404 to 109.<br>So I checked histgram of 50 MSE values. Look at following charts."
   ]
  },
  {
   "cell_type": "code",
   "execution_count": 12,
   "metadata": {},
   "outputs": [
    {
     "data": {
      "text/plain": [
       "<Figure size 432x288 with 0 Axes>"
      ]
     },
     "metadata": {},
     "output_type": "display_data"
    },
    {
     "data": {
      "image/png": "[encoded data removed]",
      "text/plain": [
       "<Figure size 720x396 with 2 Axes>"
      ]
     },
     "metadata": {
      "needs_background": "light"
     },
     "output_type": "display_data"
    }
   ],
   "source": [
    "import matplotlib.pyplot as plt\n",
    "plt.figure()\n",
    "fig, ((ax1), (ax2)) = plt.subplots(1, 2, sharex=True, sharey=True)\n",
    "ax1.hist(mse_list, alpha=0.5, bins=20, color='r', label='baseline model')\n",
    "ax2.hist(mse_list_norm, alpha=0.5, bins=5, color='b', label='After applied Normalization')\n",
    "ax1.legend()\n",
    "ax2.legend()\n",
    "ax1.set_xlabel('Mean Squared Values of baseline model')\n",
    "ax2.set_xlabel('Mean Squared Values after the Normalization')\n",
    "ax1.set_ylabel('Standard Deviation value of MSE')\n",
    "fig= plt.gcf()\n",
    "fig.set_size_inches(10, 5.5)\n",
    "plt.show()"
   ]
  },
  {
   "cell_type": "markdown",
   "metadata": {},
   "source": [
    "### In this charts, I created histgram of each mean squared values. By looking at above charts, we can recognize MSE values are no longer over the 1000 after being applied Normalization.<br>By using Normalization it seems we can get narrow range of Mean Squared Error values.<br>In other words, doing Normlization to continuous values are stabilizing Mean Squared Values.<br>In this time, I'm calculating MSE value 50 times, so applying Normalization is very important if I calculate only 1 MSE value. And usually we calculate MSE value only one time.\n",
    "**To recap, Normalization is essential to get correct Mean Square Value.**"
   ]
  },
  {
   "cell_type": "markdown",
   "metadata": {},
   "source": [
    "## Step 3. Increase Epochs"
   ]
  },
  {
   "cell_type": "code",
   "execution_count": 13,
   "metadata": {},
   "outputs": [
    {
     "name": "stdout",
     "output_type": "stream",
     "text": [
      "Now 10 times calculating.\n",
      "Now 20 times calculating.\n",
      "Now 30 times calculating.\n",
      "Now 40 times calculating.\n",
      "Now 50 times calculating.\n",
      "Mean value of MSE:168.16 and Standard Deviation value of MSE:18.67. First three MSE values: [163.78046938576554, 191.68214744749736, 191.10285144227834]\n",
      "Acctual Value samples [26.06 10.35 79.3 ] Predicted Value samples [39.2  15.65 52.69]\n"
     ]
    }
   ],
   "source": [
    "# Then I will increase epoch values to 100 and look at how models are improved by increasing epoch.\n",
    "# Now I'm getting ready to examin how increasing epochs can improve the normalized model (One hidden layer 10 nodes, 100 epochs)\n",
    "epochs = 100\n",
    "mse_list_double_epoch = []\n",
    "predicted_list_double_epoch = {}\n",
    "# collect 50 mse values.\n",
    "for i in range(50):\n",
    "    if (i + 1) % 10 == 0:\n",
    "        print('Now {} times calculating.'.format(i + 1))\n",
    "    model = create_baseline_model()\n",
    "    X_train, X_test, y_train, y_test = random_data_split(X_norm, y, i)\n",
    "    model.fit(X_train, y_train, epochs=epochs, verbose=0)\n",
    "    y_hats = model.predict(X_test)\n",
    "    mse = mean_squared_error(y_test, y_hats)\n",
    "    mse_list_double_epoch.append(mse)\n",
    "    predicted_list_double_epoch[i] = {'y_test': y_test, 'y_hats': y_hats}\n",
    "\n",
    "# Calculate mean and standard deviation of mse values\n",
    "mse_mean_double_epoch = np.mean(mse_list_double_epoch)\n",
    "mse_std_double_epoch = np.std(mse_list_double_epoch)\n",
    "print('Mean value of MSE:{:.2f} and Standard Deviation value of MSE:{:.2f}.'.format(mse_mean_double_epoch, mse_std_double_epoch), 'First three MSE values:', mse_list_double_epoch[0:3])\n",
    "print('Acctual Value samples', predicted_list_double_epoch[0]['y_test'].values[0:3], 'Predicted Value samples', np.around(predicted_list_double_epoch[0]['y_hats'].flatten()[0:3], decimals=2))"
   ]
  },
  {
   "cell_type": "markdown",
   "metadata": {},
   "source": [
    "##### ■By increasing epochs to 100, mean of 50 Mean Squared value is improving to 168 from 368. There is no wonder though."
   ]
  },
  {
   "cell_type": "markdown",
   "metadata": {},
   "source": [
    "## Step 4. Increase NN Layers and Set Epochs Back to Step 2."
   ]
  },
  {
   "cell_type": "code",
   "execution_count": 14,
   "metadata": {},
   "outputs": [
    {
     "name": "stdout",
     "output_type": "stream",
     "text": [
      "Now 10 times calculating.\n",
      "Now 20 times calculating.\n",
      "Now 30 times calculating.\n",
      "Now 40 times calculating.\n",
      "Now 50 times calculating.\n",
      "Mean value of MSE:124.55 and Standard Deviation value of MSE:19.36. First three MSE values: [108.28431246887504, 157.58653512636258, 97.42936272444179]\n",
      "Acctual Value samples [26.06 10.35 79.3 ] Predicted Value samples [40.36 15.77 59.51]\n"
     ]
    }
   ],
   "source": [
    "# Then I will increase hidden layers to three but set epochs back to 50 same as B.\n",
    "# Now I'm getting ready to examin how increasing hidden layers can improve the normalized model (Three hidden layer 10 nodes, 50 epochs)\n",
    "epochs = 50\n",
    "mse_list_three_layers = []\n",
    "predicted_list_three_layers = {}\n",
    "\n",
    "def create_three_layer_model():\n",
    "    baseline_model = Sequential()\n",
    "    baseline_model.add(Dense(10, activation='relu', input_shape=(X.shape[1],)))\n",
    "    baseline_model.add(Dense(10, activation='relu'))\n",
    "    baseline_model.add(Dense(10, activation='relu'))\n",
    "    baseline_model.add(Dense(1))\n",
    "    baseline_model.compile(optimizer='adam', loss='mean_squared_error')\n",
    "    return baseline_model\n",
    "\n",
    "# collect 50 mse values.\n",
    "for i in range(50):\n",
    "    if (i + 1) % 10 == 0:\n",
    "        print('Now {} times calculating.'.format(i + 1))\n",
    "    model = create_three_layer_model()\n",
    "    X_train, X_test, y_train, y_test = random_data_split(X_norm, y, i)\n",
    "    model.fit(X_train, y_train, epochs=epochs, verbose=0)\n",
    "    y_hats = model.predict(X_test)\n",
    "    mse = mean_squared_error(y_test, y_hats)\n",
    "    mse_list_three_layers.append(mse)\n",
    "    predicted_list_three_layers[i] = {'y_test': y_test, 'y_hats': y_hats}\n",
    "\n",
    "# Calculate mean and standard deviation of mse values\n",
    "mse_mean_three_layers = np.mean(mse_list_three_layers)\n",
    "mse_std_three_layers = np.std(mse_list_three_layers)\n",
    "print('Mean value of MSE:{:.2f} and Standard Deviation value of MSE:{:.2f}.'.format(mse_mean_three_layers, mse_std_three_layers), 'First three MSE values:', mse_list_three_layers[0:3])\n",
    "print('Acctual Value samples', predicted_list_three_layers[0]['y_test'].values[0:3], 'Predicted Value samples', np.around(predicted_list_three_layers[0]['y_hats'].flatten()[0:3], decimals=2))"
   ]
  },
  {
   "cell_type": "markdown",
   "metadata": {},
   "source": [
    "##### ■By increasing hidden layer to three from one, mean of 50 Mean Squared value is improving to 124 from 368. Even though epochs are same as step 2, there is a big change to MSE value to be improved."
   ]
  },
  {
   "cell_type": "code",
   "execution_count": null,
   "metadata": {},
   "outputs": [],
   "source": []
  }
 ],
 "metadata": {
  "kernelspec": {
   "display_name": "Python 3.6",
   "language": "python",
   "name": "python3"
  },
  "language_info": {
   "codemirror_mode": {
    "name": "ipython",
    "version": 3
   },
   "file_extension": ".py",
   "mimetype": "text/x-python",
   "name": "python",
   "nbconvert_exporter": "python",
   "pygments_lexer": "ipython3",
   "version": "3.6.9"
  }
 },
 "nbformat": 4,
 "nbformat_minor": 4
}
