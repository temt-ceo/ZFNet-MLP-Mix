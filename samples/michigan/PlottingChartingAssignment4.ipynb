{
 "cells": [
  {
   "cell_type": "markdown",
   "metadata": {},
   "source": [
    "# Assignment 4\n",
    "\n",
    "Before working on this assignment please read these instructions fully. In the submission area, you will notice that you can click the link to **Preview the Grading** for each step of the assignment. This is the criteria that will be used for peer grading. Please familiarize yourself with the criteria before beginning the assignment.\n",
    "\n",
    "This assignment requires that you to find **at least** two datasets on the web which are related, and that you visualize these datasets to answer a question with the broad topic of **economic activity or measures** (see below) for the region of **Ann Arbor, Michigan, United States**, or **United States** more broadly.\n",
    "\n",
    "You can merge these datasets with data from different regions if you like! For instance, you might want to compare **Ann Arbor, Michigan, United States** to Ann Arbor, USA. In that case at least one source file must be about **Ann Arbor, Michigan, United States**.\n",
    "\n",
    "You are welcome to choose datasets at your discretion, but keep in mind **they will be shared with your peers**, so choose appropriate datasets. Sensitive, confidential, illicit, and proprietary materials are not good choices for datasets for this assignment. You are welcome to upload datasets of your own as well, and link to them using a third party repository such as github, bitbucket, pastebin, etc. Please be aware of the Coursera terms of service with respect to intellectual property.\n",
    "\n",
    "Also, you are welcome to preserve data in its original language, but for the purposes of grading you should provide english translations. You are welcome to provide multiple visuals in different languages if you would like!\n",
    "\n",
    "As this assignment is for the whole course, you must incorporate principles discussed in the first week, such as having as high data-ink ratio (Tufte) and aligning with Cairo’s principles of truth, beauty, function, and insight.\n",
    "\n",
    "Here are the assignment instructions:\n",
    "\n",
    " * State the region and the domain category that your data sets are about (e.g., **Ann Arbor, Michigan, United States** and **economic activity or measures**).\n",
    " * You must state a question about the domain category and region that you identified as being interesting.\n",
    " * You must provide at least two links to available datasets. These could be links to files such as CSV or Excel files, or links to websites which might have data in tabular form, such as Wikipedia pages.\n",
    " * You must upload an image which addresses the research question you stated. In addition to addressing the question, this visual should follow Cairo's principles of truthfulness, functionality, beauty, and insightfulness.\n",
    " * You must contribute a short (1-2 paragraph) written justification of how your visualization addresses your stated research question.\n",
    "\n",
    "What do we mean by **economic activity or measures**?  For this category you might look at the inputs or outputs to the given economy, or major changes in the economy compared to other regions.\n",
    "\n",
    "## Tips\n",
    "* Wikipedia is an excellent source of data, and I strongly encourage you to explore it for new data sources.\n",
    "* Many governments run open data initiatives at the city, region, and country levels, and these are wonderful resources for localized data sources.\n",
    "* Several international agencies, such as the [United Nations](http://data.un.org/), the [World Bank](http://data.worldbank.org/), the [Global Open Data Index](http://index.okfn.org/place/) are other great places to look for data.\n",
    "* This assignment requires you to convert and clean datafiles. Check out the discussion forums for tips on how to do this from various sources, and share your successes with your fellow students!\n",
    "\n",
    "## Example\n",
    "Looking for an example? Here's what our course assistant put together for the **Ann Arbor, MI, USA** area using **sports and athletics** as the topic. [Example Solution File](./readonly/Assignment4_example.pdf)"
   ]
  },
  {
   "cell_type": "markdown",
   "metadata": {},
   "source": [
    "### ◉the region and the domain category that this data sets are about\n",
    "**Japan and Linguistics**\n",
    "### ◉research question\n",
    "I always have thought Japanese Joshi is very unique and frequencies are top level in Japanese and I am interested in how different with English prepositions.<br>\n",
    "In this report I'm examining \"How word frequency are different and which has more significant role between English preposition and Japanese Joshi(postposition)?\""
   ]
  },
  {
   "cell_type": "code",
   "execution_count": 10,
   "metadata": {
    "collapsed": false
   },
   "outputs": [],
   "source": [
    "import numpy as np\n",
    "import pandas as pd\n",
    "import matplotlib.pyplot as plt\n",
    "import seaborn as sns\n",
    "\n",
    "# import os\n",
    "# for dirname, _, filenames in os.walk('../input'):\n",
    "#     for filename in filenames:\n",
    "#         print(os.path.join(dirname, filename))\n",
    "jp_df = pd.read_csv(\"./input/japanesewordsfrequency/japanese_lemmas.csv\")\n",
    "en_df = pd.read_csv(\"./input/englishwordfrequency/unigram_freq.csv\")\n",
    "\n",
    "jp_df = jp_df[0:100]\n",
    "en_df = en_df[0:100]\n",
    "\n",
    "jp_df['word'] = jp_df['lemma']\n",
    "jp_df[\"frequency\"] = jp_df['frequency'].apply(lambda x: int(x))\n",
    "jp_df = jp_df[['word', 'frequency', 'rank']]\n",
    "\n",
    "en_df[\"frequency\"] = (en_df['count'] * (jp_df.iloc[0][\"frequency\"] / en_df.iloc[0]['count'])).apply(lambda x: int(x))\n",
    "en_df[\"rank\"] = None\n",
    "en_df = en_df[['word', 'frequency', 'rank']]\n",
    "\n",
    "jp_df[\"Language\"] = 'Japanese'\n",
    "en_df[\"Language\"] = 'English'\n",
    "jp_df[\"Word Length\"] = jp_df['word'].apply(lambda x: len(x))\n",
    "en_df[\"Word Length\"] = en_df['word'].apply(lambda x: len(str(x)))\n",
    "jp_df[\"Preposition or Joshi\"] = 'NO'\n",
    "en_df[\"Preposition or Joshi\"] = 'NO'\n",
    "\n"
   ]
  },
  {
   "cell_type": "code",
   "execution_count": 11,
   "metadata": {
    "collapsed": false
   },
   "outputs": [
    {
     "data": {
      "text/html": [
       "<div>\n",
       "<table border=\"1\" class=\"dataframe\">\n",
       "  <thead>\n",
       "    <tr style=\"text-align: right;\">\n",
       "      <th></th>\n",
       "      <th>word</th>\n",
       "      <th>frequency</th>\n",
       "      <th>rank</th>\n",
       "      <th>Language</th>\n",
       "      <th>Word Length</th>\n",
       "      <th>Preposition or Joshi</th>\n",
       "    </tr>\n",
       "  </thead>\n",
       "  <tbody>\n",
       "    <tr>\n",
       "      <th>0</th>\n",
       "      <td>の</td>\n",
       "      <td>41309</td>\n",
       "      <td>1</td>\n",
       "      <td>Japanese</td>\n",
       "      <td>1</td>\n",
       "      <td>YES</td>\n",
       "    </tr>\n",
       "    <tr>\n",
       "      <th>1</th>\n",
       "      <td>に</td>\n",
       "      <td>23509</td>\n",
       "      <td>2</td>\n",
       "      <td>Japanese</td>\n",
       "      <td>1</td>\n",
       "      <td>YES</td>\n",
       "    </tr>\n",
       "    <tr>\n",
       "      <th>2</th>\n",
       "      <td>は</td>\n",
       "      <td>22216</td>\n",
       "      <td>3</td>\n",
       "      <td>Japanese</td>\n",
       "      <td>1</td>\n",
       "      <td>YES</td>\n",
       "    </tr>\n",
       "    <tr>\n",
       "      <th>3</th>\n",
       "      <td>て</td>\n",
       "      <td>20431</td>\n",
       "      <td>4</td>\n",
       "      <td>Japanese</td>\n",
       "      <td>1</td>\n",
       "      <td>YES</td>\n",
       "    </tr>\n",
       "    <tr>\n",
       "      <th>4</th>\n",
       "      <td>を</td>\n",
       "      <td>20326</td>\n",
       "      <td>5</td>\n",
       "      <td>Japanese</td>\n",
       "      <td>1</td>\n",
       "      <td>YES</td>\n",
       "    </tr>\n",
       "  </tbody>\n",
       "</table>\n",
       "</div>"
      ],
      "text/plain": [
       "  word  frequency  rank  Language  Word Length Preposition or Joshi\n",
       "0    の      41309     1  Japanese            1                  YES\n",
       "1    に      23509     2  Japanese            1                  YES\n",
       "2    は      22216     3  Japanese            1                  YES\n",
       "3    て      20431     4  Japanese            1                  YES\n",
       "4    を      20326     5  Japanese            1                  YES"
      ]
     },
     "execution_count": 11,
     "metadata": {},
     "output_type": "execute_result"
    }
   ],
   "source": [
    "postpositions = pd.read_csv(\"./input/utf8postposition/postpositions-in-japanese-utf8.csv\")\n",
    "for idx, row in jp_df.iterrows():\n",
    "    for postposition in postpositions['Word']:\n",
    "        if row['word'] == str(postposition):\n",
    "            jp_df.iloc[idx, jp_df.columns.get_loc('Preposition or Joshi')] = 'YES'\n",
    "jp_df.head()"
   ]
  },
  {
   "cell_type": "code",
   "execution_count": 12,
   "metadata": {
    "collapsed": false
   },
   "outputs": [
    {
     "data": {
      "text/html": [
       "<div>\n",
       "<table border=\"1\" class=\"dataframe\">\n",
       "  <thead>\n",
       "    <tr style=\"text-align: right;\">\n",
       "      <th></th>\n",
       "      <th>word</th>\n",
       "      <th>frequency</th>\n",
       "      <th>rank</th>\n",
       "      <th>Language</th>\n",
       "      <th>Word Length</th>\n",
       "      <th>Preposition or Joshi</th>\n",
       "    </tr>\n",
       "  </thead>\n",
       "  <tbody>\n",
       "    <tr>\n",
       "      <th>0</th>\n",
       "      <td>the</td>\n",
       "      <td>41309</td>\n",
       "      <td>1</td>\n",
       "      <td>English</td>\n",
       "      <td>3</td>\n",
       "      <td>NO</td>\n",
       "    </tr>\n",
       "    <tr>\n",
       "      <th>1</th>\n",
       "      <td>of</td>\n",
       "      <td>23482</td>\n",
       "      <td>2</td>\n",
       "      <td>English</td>\n",
       "      <td>2</td>\n",
       "      <td>YES</td>\n",
       "    </tr>\n",
       "    <tr>\n",
       "      <th>2</th>\n",
       "      <td>and</td>\n",
       "      <td>23207</td>\n",
       "      <td>3</td>\n",
       "      <td>English</td>\n",
       "      <td>3</td>\n",
       "      <td>NO</td>\n",
       "    </tr>\n",
       "    <tr>\n",
       "      <th>3</th>\n",
       "      <td>to</td>\n",
       "      <td>21670</td>\n",
       "      <td>4</td>\n",
       "      <td>English</td>\n",
       "      <td>2</td>\n",
       "      <td>YES</td>\n",
       "    </tr>\n",
       "    <tr>\n",
       "      <th>4</th>\n",
       "      <td>a</td>\n",
       "      <td>16214</td>\n",
       "      <td>5</td>\n",
       "      <td>English</td>\n",
       "      <td>1</td>\n",
       "      <td>YES</td>\n",
       "    </tr>\n",
       "  </tbody>\n",
       "</table>\n",
       "</div>"
      ],
      "text/plain": [
       "  word  frequency rank Language  Word Length Preposition or Joshi\n",
       "0  the      41309    1  English            3                   NO\n",
       "1   of      23482    2  English            2                  YES\n",
       "2  and      23207    3  English            3                   NO\n",
       "3   to      21670    4  English            2                  YES\n",
       "4    a      16214    5  English            1                  YES"
      ]
     },
     "execution_count": 12,
     "metadata": {},
     "output_type": "execute_result"
    }
   ],
   "source": [
    "prepositions = pd.read_csv(\"./input/prepositions/prepositions-in-english.csv\")\n",
    "for idx, row in en_df.iterrows():\n",
    "    en_df.iloc[idx, en_df.columns.get_loc('rank')] = idx + 1\n",
    "    for preposition in prepositions['Word']:\n",
    "        if row['word'] == preposition:\n",
    "            en_df.iloc[idx, en_df.columns.get_loc('Preposition or Joshi')] = 'YES'\n",
    "en_df.head()"
   ]
  },
  {
   "cell_type": "code",
   "execution_count": 13,
   "metadata": {
    "collapsed": false
   },
   "outputs": [
    {
     "data": {
      "image/png": "[encoded data removed]",
      "text/plain": [
       "<matplotlib.figure.Figure at 0x7f7bc8fa4278>"
      ]
     },
     "metadata": {},
     "output_type": "display_data"
    }
   ],
   "source": [
    "df = pd.concat([jp_df, en_df])\n",
    "g = sns.factorplot(x='Word Length', y='frequency', data=df, hue='Preposition or Joshi', kind='swarm', col='Language')\n",
    "(g.set_axis_labels(\"Word Length\", \"Words Frequency\")\n",
    "  .set_titles(\"{col_name} {col_var} Top 100 Words\")) \n",
    "plt.show()"
   ]
  },
  {
   "cell_type": "markdown",
   "metadata": {
    "collapsed": true
   },
   "source": [
    "In my research we can recognize top 1 word frequency is Joshi apart from English top 1 frequency word is not preposition, it's \"the\". In my view, Japanese Joshi is more important in Linguistic view than English preposition.\n",
    "Japanese top 6 frequently-use words are all Joshi(postposition) and all single length words, so in Japanese language, postpositions are taking on the most important role than any other words like verb, noun and adjectives."
   ]
  },
  {
   "cell_type": "markdown",
   "metadata": {},
   "source": [
    "Design choices for my visual in regards to Cairo's principle of **truthfulness**:<br>\n",
    "*  I use total top 100 words in each language and am using same size of frequency levels.<br>\n",
    "\n",
    "Design choices for my visual in regards to Cairo's principle of **beauty**:<br>\n",
    "*  Kind of swarm plots are very useful and easy to understand when it comes to similar histogram datas.<br>\n",
    "\n",
    "Design choices for my visual in regards to Cairo's principle of **functionality**:<br>\n",
    "*  If large part of histogram datas are exists in narrow position, it will be swarmed like violin plot.<br>\n",
    "\n",
    "Design choices for my visual in regards to Cairo's principle of **insightfulness**:<br>\n",
    "*  seaborn are very useful and beautiful as draw chart in easy to understand color.<br>\n",
    "\n",
    "As Amal Shaji said, regression line could improve this chart.\n",
    "> insightfulness is the insight gained at a glance. a regression line could have more insightfull"
   ]
  },
  {
   "cell_type": "code",
   "execution_count": null,
   "metadata": {
    "collapsed": true
   },
   "outputs": [],
   "source": []
  }
 ],
 "metadata": {
  "kernelspec": {
   "display_name": "Python 3",
   "language": "python",
   "name": "python3"
  },
  "language_info": {
   "codemirror_mode": {
    "name": "ipython",
    "version": 3
   },
   "file_extension": ".py",
   "mimetype": "text/x-python",
   "name": "python",
   "nbconvert_exporter": "python",
   "pygments_lexer": "ipython3",
   "version": "3.6.2"
  }
 },
 "nbformat": 4,
 "nbformat_minor": 1
}
