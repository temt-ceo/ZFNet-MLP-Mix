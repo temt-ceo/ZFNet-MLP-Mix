{
 "cells": [
  {
   "cell_type": "markdown",
   "metadata": {},
   "source": [
    "---\n",
    "\n",
    "_You are currently looking at **version 1.2** of this notebook. To download notebooks and datafiles, as well as get help on Jupyter notebooks in the Coursera platform, visit the [Jupyter Notebook FAQ](https://www.coursera.org/learn/python-social-network-analysis/resources/yPcBs) course resource._\n",
    "\n",
    "---"
   ]
  },
  {
   "cell_type": "markdown",
   "metadata": {},
   "source": [
    "# Assignment 4"
   ]
  },
  {
   "cell_type": "code",
   "execution_count": 2,
   "metadata": {
    "collapsed": true
   },
   "outputs": [],
   "source": [
    "#####!!REVIEW!!##\n",
    "# ネットワークのモデリング\n",
    "# ◆ Preferential Attachment Model◆\n",
    "#      ネットワーク上のDegreeの内容から将来どう派生するかをModelingする\n",
    "#   　　　特徴: degreeが多いノードほど数が少なく、ほどんどのノードはdegreeが1,2など = Power-low degree destribution\n",
    "#      理由: 有名なactorは映画に引っ張りだこなので新しく入った他のactorと結びつく可能性が高いなどの理由。\n",
    "#                Clustering Coefficientが小さい。(shortest pathも小さい)\n",
    "#\n",
    "#     P(k) ... degree distributionを求める式 k個のdegreeを持つノードの数 / 全ノード数\n",
    "#     Pの最も大きくなる k とは ... histogram上で一番多いdegree\n",
    "#\n",
    "#         degrees = G.degree() # key: node名, value: degree\n",
    "#         degree_values = sorted(set(degrees.values())) # degree情報だけをソート\n",
    "#         # Histogramを求める(degreeの小さいものから分布をリストに格納する)\n",
    "#         histogram = [ list(degrees.values()).count(i) / float(nx.number_of_nodes(G)) for i in degree_values ]\n",
    "#\n",
    "#         import matplotlib.pyplot as plt\n",
    "#         plt.bar(degree_values, histogram)\n",
    "#         plt.xlabel('Degree')\n",
    "#         plt.ylabel('Fraction of Nodes') # どれぐらいあるか(分布しているか)\n",
    "#         plt.show()\n",
    "#         \n",
    "#         - node数で割っているので、少数になる(現実世界ではデータ多いのでlogで表示する（下ほど稀）)\n",
    "#          - In-Degreeで求めたい時は G.in_degree()を使用する。\n",
    "#            ⅰ. ２つのノードと1つのedgeから始まる\n",
    "#            ⅱ. ノードを１つのedgeと一緒に追加していく（ランダムにだが、probabilityはdegreeの数に比例する）　◆◆特徴◆◆\n",
    "#    Preferential Attachment Modelの代表的なメソッド: barabashi_albert_graph(n,m)   n: 新しいノード、m: 既存のノード、 結びついたグラフを返す\n",
    "#         G = nx.barabashi_albert_graph(1000000, 1) # 1000000の新しいノードを1つの既存のノードに結び付けさせる\n",
    "#         degrees = G.degree()\n",
    "#         degree_values = sorted(set(degrees.values())) # degree情報だけをソート\n",
    "#         # Histogramを求める(degreeの小さいものから分布をリストに格納する)\n",
    "#         histogram = [ list(degrees.values()).count(i) / float(nx.number_of_nodes(G)) for i in degree_values ]\n",
    "#\n",
    "#         plt.bar(degree_values, histogram, 'o')\n",
    "#         plt.xlabel('Degree')\n",
    "#         plt.ylabel('Fraction of Nodes')\n",
    "#         plt.xscale('log')\n",
    "#         plt.yscale('log')\n",
    "#         plt.show()\n",
    "#         \n",
    "# ◆ Small World Model◆\n",
    "#      Path Length and ClusteringをModelingする\n",
    "#   　　　特徴: Real NetworkはClustering Coefficientが高い傾向があり、平均path-lengthが小さい。\n",
    "#      何故か: 限られた少数のノードが多くのdegreeを持つので、そのノードがハブとなり(ハブが多いほど)、clustering coefficientが大きく、平均path-lengthが小さくなるから。\n",
    "#                pが小さい時点ではClustering Coefficientが高くshortest pathは小さい。\n",
    "#   　　　k: nearest neighborの数(edgeで繋がる)、p: ランダムなノードとrewireを行うprobability(通常かなり小さい)\n",
    "#      pが小さくrewireがない状態だとLocal Clustering Coefficientは大きい。pが大きくなると今度は平均path-lengthが小さくなる。\n",
    "#      pが0から1の間ではaverage shortest pathが急速に減り、average clustering coefficientがゆっくり減る。◆◆特徴◆◆\n",
    "#\n",
    "#         G = nx.barabashi_albert_graph(1000, 4) # 1000の新しいノードを4つの既存のノードに結び付けさせる\n",
    "#         print(nx.average_clustering(G))\n",
    "#         => 0.0202859\n",
    "#         print(nx.average_shortest_path_length(G))\n",
    "#         => 4.1694294\n",
    "#         \n",
    "#    Small World Modelの代表的なメソッド: watts_strogatz_graph(n,k,p)   n: ノード数\n",
    "#         G = nx.watts_strogatz_graph(1000, 6, 0.04) #  p=0.04は大きすぎるような..\n",
    "#         degrees = G.degree()\n",
    "#         degree_values = sorted(set(degrees.values())) # degree情報だけをソート\n",
    "#         # Histogramを求める(degreeの小さいものから分布をリストに格納する)\n",
    "#         histogram = [ list(degrees.values()).count(i) / float(nx.number_of_nodes(G)) for i in degree_values ]\n",
    "#         plt.bar(degree_values, histogram, 'o')\n",
    "#         plt.xlabel('Degree')\n",
    "#         plt.ylabel('Fraction of Nodes')   <====== ほとんどのノードがDegree=6になる。(理由:probabilityで一律に繋ぎ直しているから)\n",
    "#         plt.show()\n",
    "#\n",
    "# ◆ Link Prediction◆\n",
    "#      代表利用例：フレンド・レコメンド システム\n",
    "#      (◆特徴◆ネットワーク上のどのノードがノードAと結びつきそうかを推測する)\n",
    "#      ネットワーク上のに次どのようなedgeが構成されそうかをModelingする\n",
    "#   　　　特徴: Real NetworkはClustering Coefficientが高い傾向があり、平均path-lengthが小さい。\n",
    "#\n",
    "#       Triadic closure: 人がソーシャルネットワークの中でコネクションを築く傾向\n",
    "#       \n",
    "#      5 basic measures\n",
    "#        1. 共通の友人が多い\n",
    "#         - Common Neighbors  ... comm_neigh(X,Y) = | N(X) かつ N(Y) | 、N(X) : XのNeighbors(edgeで繋がっている)\n",
    "#        2. (共通の友人 / 友人の数) が多い\n",
    "#         - Jaccard Coefficient  ... jacc_coedd(X,Y) = comm_neigh(X,Y)  ÷  | N(X) 又は N(Y) |  (重複カウントはしない。)\n",
    "#        3. 共通の友人の友人数が少ない友人が沢山いる\n",
    "#         - Resource Allocation Index  ... 共通のNeighborが多く、そのNeighborのdegreeが小さいほど値が大きくなるIndex\n",
    "#               共通のNeighborがZとしてそのZのdegreeが４の場合、1/4となる。これを全ての共通Neighborに対し求めsumする。\n",
    "#         - Adamic-Adar Index ... Resource Allocation Index のpenalize方法をlog()に変えただけ(degreeが3ならlog(3)で割る)\n",
    "#        4. 友人がどっちもとても多い(ひょっとして友人では?)\n",
    "#         - Preferential Attachment Score ... pref_attach(X,Y) = | N(X)| * | N(Y) |  、各々のdegreeを沢山持っていたらより繋がりやすい。\n",
    "#       \n",
    "#　　　　　　　　　# 全ノードのcommon neighbor(お互いedgeで繋がりのあるノードの数)を求める式\n",
    "#         common_neigh = [ (e[0], e[1], len(list(nx.common_neighbors(G, e[0], e[1])))) for e in nx.non_edges(G) ]\n",
    "#         sorted(common_neigh, key=operator.itemgetter(2), reverse=True)\n",
    "#         print(common_neigh) \n",
    "#       \n",
    "#　　　　　　　　　# 全ノードのcommon neighborを全てのneighborsで割ってノーマライズしたものを求める式\n",
    "#         L = list(nx.jaccard_coefficient(G))\n",
    "#         L.sort(key=operator.itemgetter(2), reverse=True)\n",
    "#         print(L)\n",
    "#       \n",
    "#　　　　　　　　　# 全ノードのcommon neighborを共通のneighborsのdegree数でピーナライズした(割る)もののsum()を求める式\n",
    "#         L = list(nx.resource_allocation_index(G))\n",
    "#         L.sort(key=operator.itemgetter(2), reverse=True)\n",
    "#         print(L)\n",
    "#       \n",
    "#　　　　　　　　　# 全ノードのdegreeを元に計算する。値は整数(pref_attach(A,B)の値を求めるならAのdegree × Bのdegreeなので)\n",
    "#         L = list(nx.preferential_attachment(G))\n",
    "#         L.sort(key=operator.itemgetter(2), reverse=True)\n",
    "#         print(L)\n",
    "#\n",
    "#    Community\n",
    "#         2つのノード間のSoundarajan-Hopcroft score\n",
    "#          = | N(X) かつ N(Y) | + 共通の友人の数だけsum(f(u))\n",
    "#          ここで f(u) = { 1, u in same comm. as X and Y     0, otherwise}\n",
    "#         同じコミュニティの場合、ボーナスする\n",
    "#         | N(X) かつ N(Y) |  が全員同じコミュニティなら | N(X) かつ N(Y) | をもう一回足す。\n",
    "#       ２つのメジャーな式\n",
    "#         - Common Neighbors Soundarajan-Hopcroft score\n",
    "#         - Resource Allocation Soundarajan-Hopcroft score\n",
    "###############\n",
    "\n",
    "import networkx as nx\n",
    "import pandas as pd\n",
    "import numpy as np\n",
    "import pickle"
   ]
  },
  {
   "cell_type": "markdown",
   "metadata": {},
   "source": [
    "---\n",
    "\n",
    "## Part 1 - Random Graph Identification\n",
    "\n",
    "For the first part of this assignment you will analyze randomly generated graphs and determine which algorithm created them."
   ]
  },
  {
   "cell_type": "code",
   "execution_count": null,
   "metadata": {
    "collapsed": true
   },
   "outputs": [],
   "source": [
    "P1_Graphs = pickle.load(open('A4_graphs','rb'))\n",
    "P1_Graphs"
   ]
  },
  {
   "cell_type": "markdown",
   "metadata": {},
   "source": [
    "<br>\n",
    "`P1_Graphs` is a list containing 5 networkx graphs. Each of these graphs were generated by one of three possible algorithms:\n",
    "* Preferential Attachment (`'PA'`)\n",
    "* Small World with low probability of rewiring (`'SW_L'`)\n",
    "* Small World with high probability of rewiring (`'SW_H'`)\n",
    "\n",
    "Anaylze each of the 5 graphs and determine which of the three algorithms generated the graph.\n",
    "\n",
    "*The `graph_identification` function should return a list of length 5 where each element in the list is either `'PA'`, `'SW_L'`, or `'SW_H'`.*"
   ]
  },
  {
   "cell_type": "code",
   "execution_count": null,
   "metadata": {
    "collapsed": true
   },
   "outputs": [],
   "source": [
    "def graph_identification():\n",
    "    \n",
    "    # Your Code Here\n",
    "    \n",
    "    return # Your Answer Here"
   ]
  },
  {
   "cell_type": "markdown",
   "metadata": {},
   "source": [
    "---\n",
    "\n",
    "## Part 2 - Company Emails\n",
    "\n",
    "For the second part of this assignment you will be workking with a company's email network where each node corresponds to a person at the company, and each edge indicates that at least one email has been sent between two people.\n",
    "\n",
    "The network also contains the node attributes `Department` and `ManagementSalary`.\n",
    "\n",
    "`Department` indicates the department in the company which the person belongs to, and `ManagementSalary` indicates whether that person is receiving a management position salary."
   ]
  },
  {
   "cell_type": "code",
   "execution_count": null,
   "metadata": {
    "collapsed": true
   },
   "outputs": [],
   "source": [
    "G = nx.read_gpickle('email_prediction.txt')\n",
    "\n",
    "print(nx.info(G))"
   ]
  },
  {
   "cell_type": "markdown",
   "metadata": {},
   "source": [
    "### Part 2A - Salary Prediction\n",
    "\n",
    "Using network `G`, identify the people in the network with missing values for the node attribute `ManagementSalary` and predict whether or not these individuals are receiving a management position salary.\n",
    "\n",
    "To accomplish this, you will need to create a matrix of node features using networkx, train a sklearn classifier on nodes that have `ManagementSalary` data, and predict a probability of the node receiving a management salary for nodes where `ManagementSalary` is missing.\n",
    "\n",
    "\n",
    "\n",
    "Your predictions will need to be given as the probability that the corresponding employee is receiving a management position salary.\n",
    "\n",
    "The evaluation metric for this assignment is the Area Under the ROC Curve (AUC).\n",
    "\n",
    "Your grade will be based on the AUC score computed for your classifier. A model which with an AUC of 0.88 or higher will receive full points, and with an AUC of 0.82 or higher will pass (get 80% of the full points).\n",
    "\n",
    "Using your trained classifier, return a series of length 252 with the data being the probability of receiving management salary, and the index being the node id.\n",
    "\n",
    "    Example:\n",
    "    \n",
    "        1       1.0\n",
    "        2       0.0\n",
    "        5       0.8\n",
    "        8       1.0\n",
    "            ...\n",
    "        996     0.7\n",
    "        1000    0.5\n",
    "        1001    0.0\n",
    "        Length: 252, dtype: float64"
   ]
  },
  {
   "cell_type": "code",
   "execution_count": null,
   "metadata": {
    "collapsed": true
   },
   "outputs": [],
   "source": [
    "def salary_predictions():\n",
    "    \n",
    "    # Your Code Here\n",
    "    \n",
    "    return # Your Answer Here"
   ]
  },
  {
   "cell_type": "markdown",
   "metadata": {},
   "source": [
    "### Part 2B - New Connections Prediction\n",
    "\n",
    "For the last part of this assignment, you will predict future connections between employees of the network. The future connections information has been loaded into the variable `future_connections`. The index is a tuple indicating a pair of nodes that currently do not have a connection, and the `Future Connection` column indicates if an edge between those two nodes will exist in the future, where a value of 1.0 indicates a future connection."
   ]
  },
  {
   "cell_type": "code",
   "execution_count": 3,
   "metadata": {},
   "outputs": [
    {
     "data": {
      "text/html": [
       "<div>\n",
       "<style>\n",
       "    .dataframe thead tr:only-child th {\n",
       "        text-align: right;\n",
       "    }\n",
       "\n",
       "    .dataframe thead th {\n",
       "        text-align: left;\n",
       "    }\n",
       "\n",
       "    .dataframe tbody tr th {\n",
       "        vertical-align: top;\n",
       "    }\n",
       "</style>\n",
       "<table border=\"1\" class=\"dataframe\">\n",
       "  <thead>\n",
       "    <tr style=\"text-align: right;\">\n",
       "      <th></th>\n",
       "      <th>Future Connection</th>\n",
       "    </tr>\n",
       "  </thead>\n",
       "  <tbody>\n",
       "    <tr>\n",
       "      <th>(6, 840)</th>\n",
       "      <td>0.0</td>\n",
       "    </tr>\n",
       "    <tr>\n",
       "      <th>(4, 197)</th>\n",
       "      <td>0.0</td>\n",
       "    </tr>\n",
       "    <tr>\n",
       "      <th>(620, 979)</th>\n",
       "      <td>0.0</td>\n",
       "    </tr>\n",
       "    <tr>\n",
       "      <th>(519, 872)</th>\n",
       "      <td>0.0</td>\n",
       "    </tr>\n",
       "    <tr>\n",
       "      <th>(382, 423)</th>\n",
       "      <td>0.0</td>\n",
       "    </tr>\n",
       "    <tr>\n",
       "      <th>(97, 226)</th>\n",
       "      <td>1.0</td>\n",
       "    </tr>\n",
       "    <tr>\n",
       "      <th>(349, 905)</th>\n",
       "      <td>0.0</td>\n",
       "    </tr>\n",
       "    <tr>\n",
       "      <th>(429, 860)</th>\n",
       "      <td>0.0</td>\n",
       "    </tr>\n",
       "    <tr>\n",
       "      <th>(309, 989)</th>\n",
       "      <td>0.0</td>\n",
       "    </tr>\n",
       "    <tr>\n",
       "      <th>(468, 880)</th>\n",
       "      <td>0.0</td>\n",
       "    </tr>\n",
       "  </tbody>\n",
       "</table>\n",
       "</div>"
      ],
      "text/plain": [
       "            Future Connection\n",
       "(6, 840)                  0.0\n",
       "(4, 197)                  0.0\n",
       "(620, 979)                0.0\n",
       "(519, 872)                0.0\n",
       "(382, 423)                0.0\n",
       "(97, 226)                 1.0\n",
       "(349, 905)                0.0\n",
       "(429, 860)                0.0\n",
       "(309, 989)                0.0\n",
       "(468, 880)                0.0"
      ]
     },
     "execution_count": 3,
     "metadata": {},
     "output_type": "execute_result"
    }
   ],
   "source": [
    "future_connections = pd.read_csv('Future_Connections.csv', index_col=0, converters={0: eval})\n",
    "future_connections.head(10)"
   ]
  },
  {
   "cell_type": "markdown",
   "metadata": {},
   "source": [
    "Using network `G` and `future_connections`, identify the edges in `future_connections` with missing values and predict whether or not these edges will have a future connection.\n",
    "\n",
    "To accomplish this, you will need to create a matrix of features for the edges found in `future_connections` using networkx, train a sklearn classifier on those edges in `future_connections` that have `Future Connection` data, and predict a probability of the edge being a future connection for those edges in `future_connections` where `Future Connection` is missing.\n",
    "\n",
    "\n",
    "\n",
    "Your predictions will need to be given as the probability of the corresponding edge being a future connection.\n",
    "\n",
    "The evaluation metric for this assignment is the Area Under the ROC Curve (AUC).\n",
    "\n",
    "Your grade will be based on the AUC score computed for your classifier. A model which with an AUC of 0.88 or higher will receive full points, and with an AUC of 0.82 or higher will pass (get 80% of the full points).\n",
    "\n",
    "Using your trained classifier, return a series of length 122112 with the data being the probability of the edge being a future connection, and the index being the edge as represented by a tuple of nodes.\n",
    "\n",
    "    Example:\n",
    "    \n",
    "        (107, 348)    0.35\n",
    "        (542, 751)    0.40\n",
    "        (20, 426)     0.55\n",
    "        (50, 989)     0.35\n",
    "                  ...\n",
    "        (939, 940)    0.15\n",
    "        (555, 905)    0.35\n",
    "        (75, 101)     0.65\n",
    "        Length: 122112, dtype: float64"
   ]
  },
  {
   "cell_type": "code",
   "execution_count": null,
   "metadata": {
    "collapsed": true
   },
   "outputs": [],
   "source": [
    "def new_connections_predictions():\n",
    "    \n",
    "    # Your Code Here\n",
    "    \n",
    "    return # Your Answer Here"
   ]
  }
 ],
 "metadata": {
  "coursera": {
   "course_slug": "python-social-network-analysis",
   "graded_item_id": "BGNwe",
   "launcher_item_id": "rMoj0",
   "part_id": "E2zRG"
  },
  "kernelspec": {
   "display_name": "Python 3",
   "language": "python",
   "name": "python3"
  },
  "language_info": {
   "codemirror_mode": {
    "name": "ipython",
    "version": 3
   },
   "file_extension": ".py",
   "mimetype": "text/x-python",
   "name": "python",
   "nbconvert_exporter": "python",
   "pygments_lexer": "ipython3",
   "version": "3.6.2"
  }
 },
 "nbformat": 4,
 "nbformat_minor": 2
}
