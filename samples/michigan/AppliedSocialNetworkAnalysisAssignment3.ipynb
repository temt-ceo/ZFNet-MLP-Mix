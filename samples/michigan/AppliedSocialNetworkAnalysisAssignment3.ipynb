{
 "cells": [
  {
   "cell_type": "markdown",
   "metadata": {},
   "source": [
    "---\n",
    "\n",
    "_You are currently looking at **version 1.2** of this notebook. To download notebooks and datafiles, as well as get help on Jupyter notebooks in the Coursera platform, visit the [Jupyter Notebook FAQ](https://www.coursera.org/learn/python-social-network-analysis/resources/yPcBs) course resource._\n",
    "\n",
    "---"
   ]
  },
  {
   "cell_type": "markdown",
   "metadata": {},
   "source": [
    "# Assignment 3\n",
    "\n",
    "In this assignment you will explore measures of centrality on two networks, a friendship network in Part 1, and a blog network in Part 2."
   ]
  },
  {
   "cell_type": "markdown",
   "metadata": {},
   "source": [
    "## Part 1\n",
    "\n",
    "Answer questions 1-4 using the network `G1`, a network of friendships at a university department. Each node corresponds to a person, and an edge indicates friendship. \n",
    "\n",
    "*The network has been loaded as networkx graph object `G1`.*"
   ]
  },
  {
   "cell_type": "code",
   "execution_count": null,
   "metadata": {
    "collapsed": true
   },
   "outputs": [],
   "source": [
    "######################\n",
    "#      Influence Measures and Network Centralizationの課題      #\n",
    "# Q1. degree centrality, closeness centrality, normalized betweeness centralityを求める\n",
    "# Q2. Nodesにattributeをセットする\n",
    "# Q3. Nodesの片側(L)のWeighted Projected Graphを作成する  <- NodesのL、R片側全てを指定しなくても作成は可能\n",
    "# Q4. 高いリレーションシップスコア（交友関係度）を持つ人達はやはり同じタイプの映画が好きかどうか相関係数を出す。\n",
    "######################\n",
    "\n",
    "\n",
    "#####!!REVIEW!!##\n",
    "# ◆ Degree and Closeness Centrality ◆\n",
    "# degree centrality の想定したこと :  他のノードとの繋がりが多いほど重要なノード\n",
    "# closeness centrality の想定したこと : 他のノードとの平均距離が短いほど重要なノード\n",
    "# betweenness centrality の想定したこと : 他のノードがshortest pathでよく通過するノードほど重要なノード\n",
    "# \n",
    "# degree centrality( of node)の式 : degreeの数 ÷ (ノードの総数 - 1)\n",
    "#                                    G = nx.convert_labels_to_integers(G, first_label=1)\n",
    "#                                    degCent = nx.degree_centrality(G)\n",
    "#                                    print(degCent[34])  => 例: 0.515 (17 / 33)(※全部で34ノード)\n",
    "# in-degree centrality : Directed Graphのin-degree　　式 = in degreeの数 ÷ (ノードの総数 - 1)\n",
    "#                                    indegCent = nx.degree_centrality(G)\n",
    "# out-degree centrality : Directed Graphのout-degree　　式 = out degreeの数 ÷ (ノードの総数 - 1)\n",
    "#                                    outdegCent = nx.out_degree_centrality(G)\n",
    "#\n",
    "# closeness centrality( of node)の式 : (ノードの総数 - 1) ÷ (距離の和)　　※ 距離の和 ==> sum(nx.shortest_path_length(G, 32).values())\n",
    "#                                    closeCent = nx.closeness_centrality(G)\n",
    "#                                    print(degCent[32])  => 例: 0.541 (len(G.nodes()) -1) ÷ sum(nx.shortest_path_length(G, 32).values()) で求まる。\n",
    "#                                    Disconnected Nodes(他に到達できないノード)はどうするか。\n",
    "#                                    →案1. ノードが到達できるノードのみをネットワークとして考える。\n",
    "#                                        closeCent = nx.closeness_centrality(G, normalized = False)\n",
    "#                                    →案2. ノードが到達できるノードのみをネットワークとして考え、(その数 / (N-1))を掛けて全体で値が狂わないようにNormalizeする。\n",
    "#                                        closeCent = nx.closeness_centrality(G, normalized = False)\n",
    "#\n",
    "# ◆ Betweenness Centrality ◆\n",
    "# normalized betweenness centrality( of node)の式 : sum(各ノード間のshortest_pathでノードを通過する数/ 各ノード間のshortest_pathの数)\n",
    "#                                                                                         (2点間のshortest_pathは何通りもあるのでこのような式になる)\n",
    "#                                            Disconnected Nodes(他に到達できないノード)はどうするか。\n",
    "#                                            →案1. そのノード間の式を(sum関数に)含めない。\n",
    "# betweenness centrality と normalizationの関係 : ノード数が増えてくると値は必然的に多くなるので公平の為にノードのペアの数で割る\n",
    "#                                             Unirected Graph=> 1/2 *  (ノードの総数 - 1) * (ノードの総数 - 2)\n",
    "#                                             Directed Graph=> (ノードの総数 - 1) * (ノードの総数 - 2)\n",
    "#                                    btwnCent = nx.betweenness_centrality(G,\n",
    "#                                                               normalized=True, endpoints=False) # centralityのノードを含める時はendpoints=True\n",
    "#                                    import operator\n",
    "#                                    sorted(btwnCent.items(), key=operator.itemgetter(1), reverse=True)[:5] # 上位5つのノードが得られる\n",
    "# betweenness centrality without normalization( of edge)の式 : \n",
    "# betweenness centrality と closeness centralityの関係 : \n",
    "# betweenness centrality の式 : Node 5 has the highest centrality because all shortest paths from {1, 2, 3, 4} to {6, 7, 8, 9} have to go through node 5. In other words, node 5 is a bridge. Hence node 5 lies on the most shortest paths in the network.\n",
    "#                                    \n",
    "#  <上記まとめ>                                 \n",
    "# Normalization : Divide by number of pairs of nodes\n",
    "# Approximation : Computing betweenness centrality can be computationally expensive. (2200ノードで500万ペアになるから)\n",
    "#                              We can approximate computation by taking a subset of nodes.\n",
    "# 　　　　　　　　　　　　　　　　　btwnCent_approx = nx.betweenness_centrality(G,\n",
    "#                                                        normalized=True, endpoints=False, k=10) \n",
    "# Subsets : We can define subsets of source and target nodes to compute betweenness centrality.(これもコンピュートコストの高騰を抑える為)\n",
    "# Edge betweenness centrality : We can apply the same framework to find important edges instead of nodes.\n",
    "#\n",
    "# ◆ Scaled Page Rank ◆\n",
    "# in-degree centralityの大きさとPRsの関係 : \n",
    "# out-linksが増えるととPRは減る\n",
    "# in-linksが増えるとPRは増える\n",
    "# α (Damping Parameter) とPageRankの関係\n",
    "# step k = 1の時のbasic PR : \n",
    "# the sum of basic PR at each step: \n",
    "# in-linkの全くないnodeのPRは .. : \n",
    "# step kが１つ上がると、basic PRはどうなる? \n",
    "#\n",
    "# ◆ Hubs and Authorities ◆\n",
    "# Authority = 他からどれだけリンクを受けて権威を当てられているか。 Hub: どれだけリンクを持ちhubの役割を果たしているか\n",
    "# normalized authority and hub scores ( of node)の式 : \n",
    "# HITS algorithm : \n",
    "# in-linkの全くないnodeのauthorityとhub scoreはstep kがインクリメントされた時どうなるか : \n",
    "# Nodes that have outgoing edges to good hubs are good authorities, and nodes that have incoming edges from good authorities are good hubs?\n",
    "# The authority and hub score of each node is obtained by computing multiple iterations of HITS algorithm and both scores of most networks are convergent?\n",
    "#\n",
    "# ◆ Comparing Centrality Measures特徴 ◆\n",
    "# Closeness ..\n",
    "# Betweenness ..\n",
    "# PageRank ..\n",
    "# Auth ..\n",
    "# Hub ..\n",
    "# \n",
    "#\n",
    "#######\n",
    "import networkx as nx\n",
    "\n",
    "G1 = nx.read_gml('friendships.gml')"
   ]
  },
  {
   "cell_type": "markdown",
   "metadata": {},
   "source": [
    "### Question 1\n",
    "\n",
    "Find the degree centrality, closeness centrality, and normalized betweeness centrality (excluding endpoints) of node 100.\n",
    "\n",
    "*This function should return a tuple of floats `(degree_centrality, closeness_centrality, betweenness_centrality)`.*"
   ]
  },
  {
   "cell_type": "code",
   "execution_count": null,
   "metadata": {
    "collapsed": true
   },
   "outputs": [],
   "source": [
    "def answer_one():\n",
    "        \n",
    "    # Your Code Here\n",
    "    \n",
    "    return # Your Answer Here"
   ]
  },
  {
   "cell_type": "markdown",
   "metadata": {},
   "source": [
    "<br>\n",
    "#### For Questions 2, 3, and 4, assume that you do not know anything about the structure of the network, except for the all the centrality values of the nodes. That is, use one of the covered centrality measures to rank the nodes and find the most appropriate candidate.\n",
    "<br>"
   ]
  },
  {
   "cell_type": "markdown",
   "metadata": {},
   "source": [
    "### Question 2\n",
    "\n",
    "Suppose you are employed by an online shopping website and are tasked with selecting one user in network G1 to send an online shopping voucher to. We expect that the user who receives the voucher will send it to their friends in the network.  You want the voucher to reach as many nodes as possible. The voucher can be forwarded to multiple users at the same time, but the travel distance of the voucher is limited to one step, which means if the voucher travels more than one step in this network, it is no longer valid. Apply your knowledge in network centrality to select the best candidate for the voucher. \n",
    "\n",
    "*This function should return an integer, the name of the node.*"
   ]
  },
  {
   "cell_type": "code",
   "execution_count": null,
   "metadata": {
    "collapsed": true,
    "scrolled": true
   },
   "outputs": [],
   "source": [
    "def answer_two():\n",
    "        \n",
    "    # Your Code Here\n",
    "    \n",
    "    return # Your Answer Here"
   ]
  },
  {
   "cell_type": "markdown",
   "metadata": {},
   "source": [
    "### Question 3\n",
    "\n",
    "Now the limit of the voucher’s travel distance has been removed. Because the network is connected, regardless of who you pick, every node in the network will eventually receive the voucher. However, we now want to ensure that the voucher reaches the nodes in the lowest average number of hops.\n",
    "\n",
    "How would you change your selection strategy? Write a function to tell us who is the best candidate in the network under this condition.\n",
    "\n",
    "*This function should return an integer, the name of the node.*"
   ]
  },
  {
   "cell_type": "code",
   "execution_count": null,
   "metadata": {
    "collapsed": true,
    "scrolled": false
   },
   "outputs": [],
   "source": [
    "def answer_three():\n",
    "        \n",
    "    # Your Code Here\n",
    "    \n",
    "    return # Your Answer Here"
   ]
  },
  {
   "cell_type": "markdown",
   "metadata": {},
   "source": [
    "### Question 4\n",
    "\n",
    "Assume the restriction on the voucher’s travel distance is still removed, but now a competitor has developed a strategy to remove a person from the network in order to disrupt the distribution of your company’s voucher. Your competitor is specifically targeting people who are often bridges of information flow between other pairs of people. Identify the single riskiest person to be removed under your competitor’s strategy?\n",
    "\n",
    "*This function should return an integer, the name of the node.*"
   ]
  },
  {
   "cell_type": "code",
   "execution_count": null,
   "metadata": {
    "collapsed": true
   },
   "outputs": [],
   "source": [
    "def answer_four():\n",
    "        \n",
    "    # Your Code Here\n",
    "    \n",
    "    return # Your Answer Here"
   ]
  },
  {
   "cell_type": "markdown",
   "metadata": {
    "collapsed": true
   },
   "source": [
    "## Part 2\n",
    "\n",
    "`G2` is a directed network of political blogs, where nodes correspond to a blog and edges correspond to links between blogs. Use your knowledge of PageRank and HITS to answer Questions 5-9."
   ]
  },
  {
   "cell_type": "code",
   "execution_count": null,
   "metadata": {
    "collapsed": true
   },
   "outputs": [],
   "source": [
    "G2 = nx.read_gml('blogs.gml')"
   ]
  },
  {
   "cell_type": "markdown",
   "metadata": {},
   "source": [
    "### Question 5\n",
    "\n",
    "Apply the Scaled Page Rank Algorithm to this network. Find the Page Rank of node 'realclearpolitics.com' with damping value 0.85.\n",
    "\n",
    "*This function should return a float.*"
   ]
  },
  {
   "cell_type": "code",
   "execution_count": null,
   "metadata": {
    "collapsed": true
   },
   "outputs": [],
   "source": [
    "def answer_five():\n",
    "        \n",
    "    # Your Code Here\n",
    "    \n",
    "    return # Your Answer Here"
   ]
  },
  {
   "cell_type": "markdown",
   "metadata": {},
   "source": [
    "### Question 6\n",
    "\n",
    "Apply the Scaled Page Rank Algorithm to this network with damping value 0.85. Find the 5 nodes with highest Page Rank. \n",
    "\n",
    "*This function should return a list of the top 5 blogs in desending order of Page Rank.*"
   ]
  },
  {
   "cell_type": "code",
   "execution_count": null,
   "metadata": {
    "collapsed": true
   },
   "outputs": [],
   "source": [
    "def answer_six():\n",
    "        \n",
    "    # Your Code Here\n",
    "    \n",
    "    return # Your Answer Here"
   ]
  },
  {
   "cell_type": "markdown",
   "metadata": {
    "collapsed": true
   },
   "source": [
    "### Question 7\n",
    "\n",
    "Apply the HITS Algorithm to the network to find the hub and authority scores of node 'realclearpolitics.com'. \n",
    "\n",
    "*Your result should return a tuple of floats `(hub_score, authority_score)`.*"
   ]
  },
  {
   "cell_type": "code",
   "execution_count": null,
   "metadata": {
    "collapsed": true
   },
   "outputs": [],
   "source": [
    "def answer_seven():\n",
    "        \n",
    "    # Your Code Here\n",
    "    \n",
    "    return # Your Answer Here"
   ]
  },
  {
   "cell_type": "markdown",
   "metadata": {
    "collapsed": true
   },
   "source": [
    "### Question 8 \n",
    "\n",
    "Apply the HITS Algorithm to this network to find the 5 nodes with highest hub scores.\n",
    "\n",
    "*This function should return a list of the top 5 blogs in desending order of hub scores.*"
   ]
  },
  {
   "cell_type": "code",
   "execution_count": null,
   "metadata": {
    "collapsed": true
   },
   "outputs": [],
   "source": [
    "def answer_eight():\n",
    "        \n",
    "    # Your Code Here\n",
    "    \n",
    "    return # Your Answer Here"
   ]
  },
  {
   "cell_type": "markdown",
   "metadata": {},
   "source": [
    "### Question 9 \n",
    "\n",
    "Apply the HITS Algorithm to this network to find the 5 nodes with highest authority scores.\n",
    "\n",
    "*This function should return a list of the top 5 blogs in desending order of authority scores.*"
   ]
  },
  {
   "cell_type": "code",
   "execution_count": null,
   "metadata": {
    "collapsed": true
   },
   "outputs": [],
   "source": [
    "def answer_nine():\n",
    "        \n",
    "    # Your Code Here\n",
    "    \n",
    "    return # Your Answer Here"
   ]
  }
 ],
 "metadata": {
  "coursera": {
   "course_slug": "python-social-network-analysis",
   "graded_item_id": "4XCse",
   "launcher_item_id": "utvmz",
   "part_id": "cZ7Jg"
  },
  "kernelspec": {
   "display_name": "Python 3",
   "language": "python",
   "name": "python3"
  },
  "language_info": {
   "codemirror_mode": {
    "name": "ipython",
    "version": 3
   },
   "file_extension": ".py",
   "mimetype": "text/x-python",
   "name": "python",
   "nbconvert_exporter": "python",
   "pygments_lexer": "ipython3",
   "version": "3.6.2"
  }
 },
 "nbformat": 4,
 "nbformat_minor": 2
}
