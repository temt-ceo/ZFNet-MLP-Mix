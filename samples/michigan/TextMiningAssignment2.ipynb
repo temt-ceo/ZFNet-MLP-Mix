{
 "cells": [
  {
   "cell_type": "markdown",
   "metadata": {},
   "source": [
    "---\n",
    "\n",
    "_You are currently looking at **version 1.0** of this notebook. To download notebooks and datafiles, as well as get help on Jupyter notebooks in the Coursera platform, visit the [Jupyter Notebook FAQ](https://www.coursera.org/learn/python-text-mining/resources/d9pwm) course resource._\n",
    "\n",
    "---"
   ]
  },
  {
   "cell_type": "markdown",
   "metadata": {},
   "source": [
    "# Assignment 2 - Introduction to NLTK\n",
    "\n",
    "In part 1 of this assignment you will use nltk to explore the Herman Melville novel Moby Dick. Then in part 2 you will create a spelling recommender function that uses nltk to find words similar to the misspelling. "
   ]
  },
  {
   "cell_type": "markdown",
   "metadata": {},
   "source": [
    "## Part 1 - Analyzing Moby Dick"
   ]
  },
  {
   "cell_type": "code",
   "execution_count": 63,
   "metadata": {},
   "outputs": [
    {
     "name": "stdout",
     "output_type": "stream",
     "text": [
      "[nltk_data] Downloading package punkt to /home/jovyan/nltk_data...\n",
      "[nltk_data]   Package punkt is already up-to-date!\n",
      "[nltk_data] Downloading package wordnet to /home/jovyan/nltk_data...\n",
      "[nltk_data]   Package wordnet is already up-to-date!\n",
      "[nltk_data] Downloading package averaged_perceptron_tagger to\n",
      "[nltk_data]     /home/jovyan/nltk_data...\n",
      "[nltk_data]   Package averaged_perceptron_tagger is already up-to-\n",
      "[nltk_data]       date!\n",
      "[nltk_data] Downloading package words to /home/jovyan/nltk_data...\n",
      "[nltk_data]   Package words is already up-to-date!\n"
     ]
    },
    {
     "data": {
      "text/plain": [
       "['[',\n",
       " 'Moby',\n",
       " 'Dick',\n",
       " 'by',\n",
       " 'Herman',\n",
       " 'Melville',\n",
       " '1851',\n",
       " ']',\n",
       " 'ETYMOLOGY',\n",
       " '.']"
      ]
     },
     "execution_count": 63,
     "metadata": {},
     "output_type": "execute_result"
    }
   ],
   "source": [
    "import nltk\n",
    "nltk.download('punkt')\n",
    "nltk.download('wordnet')\n",
    "nltk.download('averaged_perceptron_tagger')\n",
    "nltk.download('words')\n",
    "import pandas as pd\n",
    "import numpy as np\n",
    "\n",
    "# If you would like to work with the raw text you can use 'moby_raw'\n",
    "with open('moby.txt', 'r') as f:\n",
    "    moby_raw = f.read()\n",
    "    \n",
    "# If you would like to work with the novel in nltk.Text format you can use 'text1'\n",
    "moby_tokens = nltk.word_tokenize(moby_raw) # nltk.word_tokenize  <---これも大事なのでよく覚えておく\n",
    "text1 = nltk.Text(moby_tokens)\n",
    "moby_tokens[:10]"
   ]
  },
  {
   "cell_type": "markdown",
   "metadata": {},
   "source": [
    "### Example 1\n",
    "\n",
    "How many tokens (words and punctuation symbols) are in text1?\n",
    "\n",
    "*This function should return an integer.*"
   ]
  },
  {
   "cell_type": "code",
   "execution_count": 7,
   "metadata": {},
   "outputs": [
    {
     "name": "stdout",
     "output_type": "stream",
     "text": [
      "254989\n"
     ]
    },
    {
     "data": {
      "text/plain": [
       "254989"
      ]
     },
     "execution_count": 7,
     "metadata": {},
     "output_type": "execute_result"
    }
   ],
   "source": [
    "def example_one():\n",
    "    print(len(text1))\n",
    "    return len(nltk.word_tokenize(moby_raw)) # or alternatively len(text1)\n",
    "\n",
    "example_one()"
   ]
  },
  {
   "cell_type": "markdown",
   "metadata": {},
   "source": [
    "### Example 2\n",
    "\n",
    "How many unique tokens (unique words and punctuation) does text1 have?\n",
    "\n",
    "*This function should return an integer.*"
   ]
  },
  {
   "cell_type": "code",
   "execution_count": 8,
   "metadata": {},
   "outputs": [
    {
     "name": "stdout",
     "output_type": "stream",
     "text": [
      "20755\n"
     ]
    },
    {
     "data": {
      "text/plain": [
       "20755"
      ]
     },
     "execution_count": 8,
     "metadata": {},
     "output_type": "execute_result"
    }
   ],
   "source": [
    "def example_two():\n",
    "    print(len(set(text1)))\n",
    "    return len(set(nltk.word_tokenize(moby_raw))) # or alternatively len(set(text1))\n",
    "\n",
    "example_two()"
   ]
  },
  {
   "cell_type": "markdown",
   "metadata": {},
   "source": [
    "### Example 3\n",
    "\n",
    "After lemmatizing the verbs, how many unique tokens does text1 have?\n",
    "\n",
    "*This function should return an integer.*"
   ]
  },
  {
   "cell_type": "code",
   "execution_count": 23,
   "metadata": {},
   "outputs": [
    {
     "data": {
      "text/plain": [
       "16900"
      ]
     },
     "execution_count": 23,
     "metadata": {},
     "output_type": "execute_result"
    }
   ],
   "source": [
    "from nltk.stem import WordNetLemmatizer\n",
    "\n",
    "def example_three():\n",
    "\n",
    "    lemmatizer = WordNetLemmatizer()\n",
    "    lemmatized = [lemmatizer.lemmatize(w,'v') for w in text1]\n",
    "\n",
    "    return len(set(lemmatized))\n",
    "\n",
    "example_three()"
   ]
  },
  {
   "cell_type": "markdown",
   "metadata": {},
   "source": [
    "### Question 1\n",
    "\n",
    "What is the lexical diversity of the given text input? (i.e. ratio of unique tokens to the total number of tokens)\n",
    "\n",
    "*This function should return a float.*"
   ]
  },
  {
   "cell_type": "code",
   "execution_count": 11,
   "metadata": {},
   "outputs": [
    {
     "name": "stdout",
     "output_type": "stream",
     "text": [
      "<Text: Moby Dick by Herman Melville 1851>\n"
     ]
    },
    {
     "data": {
      "text/plain": [
       "0.08139566804842562"
      ]
     },
     "execution_count": 11,
     "metadata": {},
     "output_type": "execute_result"
    }
   ],
   "source": [
    "def answer_one():\n",
    "    \n",
    "    # lexical diversity: a measure of how many different words that are used in a text(0以下の少数)\n",
    "    print(text1)\n",
    "    return len(set(text1)) / len(text1)# Your answer here\n",
    "\n",
    "answer_one()\n",
    "\n",
    "#\n",
    "#\n",
    "# This website is \"very very\" useful => https://www.nltk.org/book/ch01.html\n",
    "#\n",
    "#\n",
    "#"
   ]
  },
  {
   "cell_type": "markdown",
   "metadata": {},
   "source": [
    "### Question 2\n",
    "\n",
    "What percentage of tokens is 'whale'or 'Whale'?\n",
    "}\n",
    "*This function should return a float.*"
   ]
  },
  {
   "cell_type": "code",
   "execution_count": 13,
   "metadata": {},
   "outputs": [
    {
     "name": "stdout",
     "output_type": "stream",
     "text": [
      "782\n",
      "270\n"
     ]
    },
    {
     "data": {
      "text/plain": [
       "0.4125668166077752"
      ]
     },
     "execution_count": 13,
     "metadata": {},
     "output_type": "execute_result"
    }
   ],
   "source": [
    "def answer_two():\n",
    "    \n",
    "    print(text1.count('whale'))\n",
    "    print(text1.count('Whale'))\n",
    "    return 100 * (text1.count('whale') + text1.count('Whale')) / len(text1)# Your answer here\n",
    "\n",
    "answer_two()"
   ]
  },
  {
   "cell_type": "markdown",
   "metadata": {},
   "source": [
    "### Question 3\n",
    "\n",
    "What are the 20 most frequently occurring (unique) tokens in the text? What is their frequency?\n",
    "\n",
    "*This function should return a list of 20 tuples where each tuple is of the form `(token, frequency)`. The list should be sorted in descending order of frequency.*"
   ]
  },
  {
   "cell_type": "code",
   "execution_count": 20,
   "metadata": {},
   "outputs": [
    {
     "data": {
      "text/plain": [
       "[(',', 19204),\n",
       " ('the', 13715),\n",
       " ('.', 7308),\n",
       " ('of', 6513),\n",
       " ('and', 6010),\n",
       " ('a', 4545),\n",
       " ('to', 4515),\n",
       " (';', 4173),\n",
       " ('in', 3908),\n",
       " ('that', 2978),\n",
       " ('his', 2459),\n",
       " ('it', 2196),\n",
       " ('I', 2097),\n",
       " ('!', 1767),\n",
       " ('is', 1722),\n",
       " ('--', 1713),\n",
       " ('with', 1659),\n",
       " ('he', 1658),\n",
       " ('was', 1639),\n",
       " ('as', 1620)]"
      ]
     },
     "execution_count": 20,
     "metadata": {},
     "output_type": "execute_result"
    }
   ],
   "source": [
    "def answer_three():\n",
    "\n",
    "    return nltk.FreqDist(text1).most_common(20)# Your answer here\n",
    "\n",
    "answer_three()"
   ]
  },
  {
   "cell_type": "markdown",
   "metadata": {},
   "source": [
    "### Question 4\n",
    "\n",
    "What tokens have a length of greater than 5 and frequency of more than 150?\n",
    "\n",
    "*This function should return an alphabetically sorted list of the tokens that match the above constraints. To sort your list, use `sorted()`*"
   ]
  },
  {
   "cell_type": "code",
   "execution_count": 27,
   "metadata": {},
   "outputs": [
    {
     "data": {
      "text/plain": [
       "['Captain',\n",
       " 'Pequod',\n",
       " 'Queequeg',\n",
       " 'Starbuck',\n",
       " 'almost',\n",
       " 'before',\n",
       " 'himself',\n",
       " 'little',\n",
       " 'seemed',\n",
       " 'should',\n",
       " 'though',\n",
       " 'through',\n",
       " 'whales',\n",
       " 'without']"
      ]
     },
     "execution_count": 27,
     "metadata": {},
     "output_type": "execute_result"
    }
   ],
   "source": [
    "def answer_four():\n",
    "    \n",
    "    freq_words = nltk.FreqDist(text1)\n",
    "    vacab_list = freq_words.keys()\n",
    "    freq150 = [w for w in list(vacab_list) if len(w) > 5 and freq_words[w] > 150]\n",
    "    \n",
    "    return sorted(freq150)# Your answer here\n",
    "\n",
    "answer_four()"
   ]
  },
  {
   "cell_type": "markdown",
   "metadata": {},
   "source": [
    "### Question 5\n",
    "\n",
    "Find the longest word in text1 and that word's length.\n",
    "\n",
    "*This function should return a tuple `(longest_word, length)`.*"
   ]
  },
  {
   "cell_type": "code",
   "execution_count": 26,
   "metadata": {},
   "outputs": [
    {
     "name": "stdout",
     "output_type": "stream",
     "text": [
      "[\"twelve-o'clock-at-night\", 'standers-of-mast-heads', 'stander-of-mast-heads', 'tastefully-ornamented', 'immortality-preserver']\n"
     ]
    },
    {
     "data": {
      "text/plain": [
       "(\"twelve-o'clock-at-night\", 23)"
      ]
     },
     "execution_count": 26,
     "metadata": {},
     "output_type": "execute_result"
    }
   ],
   "source": [
    "def answer_five():\n",
    "    \n",
    "    freq_words = nltk.FreqDist(text1)\n",
    "    vacab_list = freq_words.keys()\n",
    "    sorted_list = sorted(vacab_list, key=lambda k: len(k), reverse=True)\n",
    "    print(sorted_list[:5])\n",
    "    \n",
    "    return sorted_list[0], len(sorted_list[0])# Your answer here\n",
    "\n",
    "answer_five()"
   ]
  },
  {
   "cell_type": "markdown",
   "metadata": {},
   "source": [
    "### Question 6\n",
    "\n",
    "What unique words have a frequency of more than 2000? What is their frequency?\n",
    "\n",
    "\"Hint:  you may want to use `isalpha()` to check if the token is a word and not punctuation.\"\n",
    "\n",
    "*This function should return a list of tuples of the form `(frequency, word)` sorted in descending order of frequency.*"
   ]
  },
  {
   "cell_type": "code",
   "execution_count": 34,
   "metadata": {},
   "outputs": [
    {
     "name": "stdout",
     "output_type": "stream",
     "text": [
      "['a', 'to', 'in', 'and', 'I', 'his', 'the', 'of', 'it', 'that']\n",
      "[4545, 4515, 3908, 6010, 2097, 2459, 13715, 6513, 2196, 2978]\n"
     ]
    },
    {
     "data": {
      "text/plain": [
       "[(13715, 'the'),\n",
       " (6513, 'of'),\n",
       " (6010, 'and'),\n",
       " (4545, 'a'),\n",
       " (4515, 'to'),\n",
       " (3908, 'in'),\n",
       " (2978, 'that'),\n",
       " (2459, 'his'),\n",
       " (2196, 'it'),\n",
       " (2097, 'I')]"
      ]
     },
     "execution_count": 34,
     "metadata": {},
     "output_type": "execute_result"
    }
   ],
   "source": [
    "#\n",
    "#\n",
    "#  以下は2つのlistをlist of tuplesに変換しています。\n",
    "#\n",
    "def answer_six():\n",
    "    # 対象のワードリスト作成\n",
    "    freq_words = nltk.FreqDist(text1)\n",
    "    vacab_list = freq_words.keys()\n",
    "    freq2000 = [w for w in list(vacab_list) if w.isalpha() and freq_words[w] > 2000]\n",
    "    print(freq2000[:20])\n",
    "    \n",
    "    # frequencyをzipしてtupleのリストへ\n",
    "    freq_list = [freq_words[w] for w in freq2000]\n",
    "    print(freq_list)\n",
    "    tuple_list = list(zip(freq_list, freq2000))\n",
    "\n",
    "    sorted_list = sorted(tuple_list, reverse=True)\n",
    "    return sorted_list# Your answer here\n",
    "\n",
    "answer_six()"
   ]
  },
  {
   "cell_type": "markdown",
   "metadata": {},
   "source": [
    "### Question 7\n",
    "\n",
    "What is the average number of tokens per sentence?\n",
    "\n",
    "*This function should return a float.*"
   ]
  },
  {
   "cell_type": "code",
   "execution_count": 37,
   "metadata": {},
   "outputs": [
    {
     "name": "stdout",
     "output_type": "stream",
     "text": [
      "9852\n"
     ]
    },
    {
     "data": {
      "text/plain": [
       "25.881952902963864"
      ]
     },
     "execution_count": 37,
     "metadata": {},
     "output_type": "execute_result"
    }
   ],
   "source": [
    "def answer_seven():\n",
    "    \n",
    "    sentence_splitting = nltk.sent_tokenize(moby_raw)\n",
    "    sentence_len = len(sentence_splitting)\n",
    "    print(sentence_len)\n",
    "    \n",
    "    return len(text1) / sentence_len# Your answer here\n",
    "\n",
    "answer_seven()"
   ]
  },
  {
   "cell_type": "markdown",
   "metadata": {},
   "source": [
    "### Question 8\n",
    "\n",
    "What are the 5 most frequent parts of speech in this text? What is their frequency?\n",
    "\n",
    "*This function should return a list of tuples of the form `(part_of_speech, frequency)` sorted in descending order of frequency.*"
   ]
  },
  {
   "cell_type": "code",
   "execution_count": 73,
   "metadata": {},
   "outputs": [
    {
     "name": "stdout",
     "output_type": "stream",
     "text": [
      "word with tagging: [('[', 'JJ'), ('Moby', 'NNP'), ('Dick', 'NNP'), ('by', 'IN'), ('Herman', 'NNP')]\n",
      "word with tagging and frequency: [((',', ','), 19204), (('the', 'DT'), 13715), (('.', '.'), 7308), (('of', 'IN'), 6513), (('and', 'CC'), 6010)]\n",
      "tagging and frequency: [(',', 19204), ('DT', 13715), ('.', 7308), ('IN', 6513), ('CC', 6010)]\n"
     ]
    },
    {
     "data": {
      "text/plain": [
       "[('NN', 32730), ('IN', 28657), ('DT', 25867), (',', 19204), ('JJ', 17620)]"
      ]
     },
     "execution_count": 73,
     "metadata": {},
     "output_type": "execute_result"
    }
   ],
   "source": [
    "#\n",
    "#\n",
    "#  以下はロジック的にtuple, list, dictなど様々に変換しているので参考になります。\n",
    "#\n",
    "def answer_eight():\n",
    "    # part-of-speechをセットする\n",
    "    part_of_speech = nltk.pos_tag(text1)\n",
    "    print('word with tagging:', part_of_speech[:5])\n",
    "    \n",
    "    pos_values = [word for (tag, word) in part_of_speech]\n",
    "    cfd = nltk.FreqDist(part_of_speech)\n",
    "    print('word with tagging and frequency:', cfd.most_common(5))\n",
    "    \n",
    "    counts = [(tag, frequency) for (word, tag), frequency in cfd.most_common()]\n",
    "    print('tagging and frequency:', counts[:5])\n",
    "    \n",
    "    obj = {}\n",
    "    for (tag, frequency) in counts:\n",
    "        if tag in obj:\n",
    "            obj[tag] += frequency\n",
    "        else:\n",
    "            obj[tag] = frequency\n",
    "    \n",
    "    #\n",
    "    # from dictionary to list of tuples\n",
    "    #\n",
    "    ans_list = [(key, val) for key, val in obj.items()]\n",
    "\n",
    "    #\n",
    "    # sorting list of tuples\n",
    "    #\n",
    "    sorted_ans_list = sorted(ans_list, key=lambda x: x[1], reverse=True)\n",
    "    return sorted_ans_list[:5]# Your answer here\n",
    "\n",
    "answer_eight()\n",
    "\n",
    "#\n",
    "#\n",
    "# This website is useful => https://www.nltk.org/book/ch05.html\n",
    "#\n",
    "#"
   ]
  },
  {
   "cell_type": "markdown",
   "metadata": {},
   "source": [
    "## Part 2 - Spelling Recommender\n",
    "\n",
    "For this part of the assignment you will create three different spelling recommenders, that each take a list of misspelled words and recommends a correctly spelled word for every word in the list.\n",
    "\n",
    "For every misspelled word, the recommender should find find the word in `correct_spellings` that has the shortest distance*, and starts with the same letter as the misspelled word, and return that word as a recommendation.\n",
    "\n",
    "*Each of the three different recommenders will use a different distance measure (outlined below).\n",
    "\n",
    "Each of the recommenders should provide recommendations for the three default words provided: `['cormulent', 'incendenece', 'validrate']`."
   ]
  },
  {
   "cell_type": "code",
   "execution_count": 64,
   "metadata": {},
   "outputs": [
    {
     "name": "stdout",
     "output_type": "stream",
     "text": [
      "accordant\n",
      "{('a', 'c', 'c'), ('c', 'c', 'o'), ('o', 'r', 'd'), ('d', 'a', 'n'), ('r', 'd', 'a'), ('a', 'n', 't'), ('c', 'o', 'r')}\n"
     ]
    }
   ],
   "source": [
    "from nltk.corpus import words\n",
    "\n",
    "correct_spellings = words.words() # <- 訂正 words\n",
    "print(correct_spellings[999])\n",
    "print(set(nltk.ngrams(correct_spellings[999], n=3)))\n",
    "\n",
    "# 課題：\n",
    "# take a list of misspelled words and recommends a correctly spelled word for every word in the list.\n",
    "# 共通条件1: has the shortest distance*\n",
    "# 共通条件2: starts with the same letter as the misspelled word\n",
    "#\n",
    "# Question9: trigram ... n-gramの3語の事をtrigramという\n",
    "#                     the trigrams of the two words ... ミススペルと訂正語の２ワードをtrigramするという意味らしい。\n",
    "# Question11: Levenshtein edit-distance  -> https://www.nltk.org/api/nltk.metrics.html"
   ]
  },
  {
   "cell_type": "markdown",
   "metadata": {},
   "source": [
    "### Question 9\n",
    "\n",
    "For this recommender, your function should provide recommendations for the three default words provided above using the following distance metric:\n",
    "\n",
    "**[Jaccard distance](https://en.wikipedia.org/wiki/Jaccard_index) on the trigrams of the two words.**\n",
    "\n",
    "*This function should return a list of length three:\n",
    "`['cormulent_reccomendation', 'incendenece_reccomendation', 'validrate_reccomendation']`.*"
   ]
  },
  {
   "cell_type": "code",
   "execution_count": 58,
   "metadata": {},
   "outputs": [
    {
     "name": "stdout",
     "output_type": "stream",
     "text": [
      "<function jaccard_distance at 0x7f72637f5158>\n"
     ]
    },
    {
     "name": "stderr",
     "output_type": "stream",
     "text": [
      "/opt/conda/lib/python3.6/site-packages/ipykernel_launcher.py:16: DeprecationWarning: generator 'ngrams' raised StopIteration\n",
      "  app.launch_new_instance()\n"
     ]
    },
    {
     "name": "stdout",
     "output_type": "stream",
     "text": [
      "['corpulent', 'indecence', 'validate']\n"
     ]
    }
   ],
   "source": [
    "# spelling recommender A\n",
    "def answer_nine(entries=['cormulent', 'incendenece', 'validrate']): # <- misspelled words\n",
    "    \n",
    "    ngram = 3\n",
    "    ans = []\n",
    "\n",
    "    print(nltk.jaccard_distance)\n",
    "    # nltk.jaccard_distanceと同じもの（コピーしたから）\n",
    "    def jaccard_distance(label1, label2):\n",
    "        return (len(label1.union(label2)) - len(label1.intersection(label2))) / len(label1.union(label2))\n",
    "    \n",
    "    for entry_word in entries:\n",
    "        jaccard_distance_list = []\n",
    "        \n",
    "        for word in correct_spellings:\n",
    "            trigram_splitted = set(nltk.ngrams(word, ngram))\n",
    "            entry_word_splitted = set(nltk.ngrams(entry_word, ngram))\n",
    "            dis = jaccard_distance(trigram_splitted, entry_word_splitted)\n",
    "            \n",
    "            jaccard_distance_list.append((word, dis, entry_word))\n",
    "\n",
    "        # 先頭の１語が一致するワードのみ\n",
    "        filtered_list = filter(lambda x: x[0][0] == x[2][0], jaccard_distance_list)\n",
    "        # shortest distanceが最も近いと考えられるものを先頭に持ってくる　\n",
    "        sorted_list = sorted(filtered_list, key=lambda x: x[1])\n",
    "        \n",
    "        ans.append(sorted_list[0][0])\n",
    "\n",
    "            \n",
    "    print(ans)\n",
    "    \n",
    "    return ans# Your answer here\n",
    "    \n",
    "ans = answer_nine()\n",
    "\n",
    "# Wikipediaの解説\n",
    "# Jaccard distance: measures dissimilarity between sample sets. = 1 - \"accard coefficient\"\n",
    "#　つまり\n",
    "#　dj(A, B) = 1 - J(A, B) = ((A | B) - (A & B)) / A | B     .... ① これがsimilarityを表す\n",
    "# \n",
    "# https://www.nltk.org/_modules/nltk/metrics/distance.html\n",
    "# 上記はnltkのモジュールであり、 jaccard_distanceで検索すると出てくる\n",
    "# \n",
    "# pythonのsetにunionとintersectionがある。これが①の式を表せる\n",
    "# \n",
    "# \n"
   ]
  },
  {
   "cell_type": "markdown",
   "metadata": {},
   "source": [
    "### Question 10\n",
    "\n",
    "For this recommender, your function should provide recommendations for the three default words provided above using the following distance metric:\n",
    "\n",
    "**[Jaccard distance](https://en.wikipedia.org/wiki/Jaccard_index) on the 4-grams of the two words.**\n",
    "\n",
    "*This function should return a list of length three:\n",
    "`['cormulent_reccomendation', 'incendenece_reccomendation', 'validrate_reccomendation']`.*"
   ]
  },
  {
   "cell_type": "code",
   "execution_count": 59,
   "metadata": {},
   "outputs": [
    {
     "name": "stderr",
     "output_type": "stream",
     "text": [
      "/opt/conda/lib/python3.6/site-packages/ipykernel_launcher.py:14: DeprecationWarning: generator 'ngrams' raised StopIteration\n",
      "  \n"
     ]
    },
    {
     "name": "stdout",
     "output_type": "stream",
     "text": [
      "['cormus', 'incendiary', 'valid']\n"
     ]
    }
   ],
   "source": [
    "def answer_ten(entries=['cormulent', 'incendenece', 'validrate']):\n",
    "    \n",
    "    ngram = 4\n",
    "    ans = []\n",
    "\n",
    "    # nltk.jaccard_distanceと同じもの（コピーしたから）\n",
    "    def jaccard_distance(label1, label2):\n",
    "        return (len(label1.union(label2)) - len(label1.intersection(label2))) / len(label1.union(label2))\n",
    "\n",
    "    for entry_word in entries:\n",
    "        jaccard_distance_list = []\n",
    "        \n",
    "        for word in correct_spellings:\n",
    "            trigram_splitted = set(nltk.ngrams(word, ngram))\n",
    "            entry_word_splitted = set(nltk.ngrams(entry_word, ngram))\n",
    "            dis = jaccard_distance(trigram_splitted, entry_word_splitted)\n",
    "            \n",
    "            jaccard_distance_list.append((word, dis, entry_word))\n",
    "\n",
    "        # 先頭の１語が一致するワードのみ\n",
    "        filtered_list = filter(lambda x: x[0][0] == x[2][0], jaccard_distance_list)\n",
    "        # shortest distanceが最も近いと考えられるものを先頭に持ってくる　\n",
    "        sorted_list = sorted(filtered_list, key=lambda x: x[1])\n",
    "        \n",
    "        ans.append(sorted_list[0][0])\n",
    "\n",
    "    return ans # Your answer here\n",
    "    \n",
    "ans = answer_ten()\n",
    "print(ans)\n",
    "\n",
    "# nltk.ngramsの実装は以下が詳しい。\n",
    "# https://stackoverflow.com/questions/46305743/python-need-help-understanding-the-difference-between-these-two-pieces-of-code/46312444#46312444\n"
   ]
  },
  {
   "cell_type": "markdown",
   "metadata": {},
   "source": [
    "### Question 11\n",
    "\n",
    "For this recommender, your function should provide recommendations for the three default words provided above using the following distance metric:\n",
    "\n",
    "**[Edit distance on the two words with transpositions.](https://en.wikipedia.org/wiki/Damerau%E2%80%93Levenshtein_distance)**\n",
    "\n",
    "*This function should return a list of length three:\n",
    "`['cormulent_reccomendation', 'incendenece_reccomendation', 'validrate_reccomendation']`.*"
   ]
  },
  {
   "cell_type": "code",
   "execution_count": 65,
   "metadata": {},
   "outputs": [
    {
     "data": {
      "text/plain": [
       "['corpulent', 'intendence', 'validate']"
      ]
     },
     "execution_count": 65,
     "metadata": {},
     "output_type": "execute_result"
    }
   ],
   "source": [
    "# spelling recommender C\n",
    "def answer_eleven(entries=['cormulent', 'incendenece', 'validrate']):\n",
    "    \n",
    "    ans = []\n",
    "\n",
    "    for entry_word in entries:\n",
    "        jaccard_distance_list = []\n",
    "        \n",
    "        for word in correct_spellings:\n",
    "            dis = nltk.edit_distance(word, entry_word)\n",
    "            \n",
    "            jaccard_distance_list.append((word, dis, entry_word))\n",
    "\n",
    "        # 先頭の１語が一致するワードのみ\n",
    "        filtered_list = filter(lambda x: x[0][0] == x[2][0], jaccard_distance_list)\n",
    "        # shortest distanceが最も近いと考えられるものを先頭に持ってくる　\n",
    "        sorted_list = sorted(filtered_list, key=lambda x: x[1])\n",
    "        \n",
    "        ans.append(sorted_list[0][0])\n",
    "    \n",
    "    return ans# Your answer here \n",
    "    \n",
    "ans = answer_eleven()\n",
    "ans\n",
    "\n",
    "# nltk.metrics.distance.edit_distance(s1, s2, substitution_cost=1, transpositions=False)[source]\n",
    "# Calculate the Levenshtein edit-distance between two strings. The edit distance is the number of characters that need to be substituted, \n",
    "# inserted, or deleted, to transform s1 into s2. For example, transforming “rain” to “shine” requires three steps, consisting of two \n",
    "# substitutions and one insertion: “rain” -> “sain” -> “shin” -> “shine”. These operations could have been done in other orders, but at least \n",
    "# three steps are needed.\n",
    "# \n",
    "# Allows specifying the cost of substitution edits (e.g., “a” -> “b”), because sometimes it makes sense to assign greater penalties to substitutions.\n",
    "# \n",
    "# This also optionally allows transposition edits (e.g., “ab” -> “ba”), though this is disabled by default.\n",
    "# \n",
    "# Parameters\n",
    "# s2 (str) – The strings to be analysed\n",
    "# \n",
    "# transpositions (bool) – Whether to allow transposition edits\n",
    "# \n",
    "# :rtype int"
   ]
  },
  {
   "cell_type": "code",
   "execution_count": null,
   "metadata": {
    "collapsed": true
   },
   "outputs": [],
   "source": []
  }
 ],
 "metadata": {
  "coursera": {
   "course_slug": "python-text-mining",
   "graded_item_id": "r35En",
   "launcher_item_id": "tCVfW",
   "part_id": "NTVgL"
  },
  "kernelspec": {
   "display_name": "Python 3",
   "language": "python",
   "name": "python3"
  },
  "language_info": {
   "codemirror_mode": {
    "name": "ipython",
    "version": 3
   },
   "file_extension": ".py",
   "mimetype": "text/x-python",
   "name": "python",
   "nbconvert_exporter": "python",
   "pygments_lexer": "ipython3",
   "version": "3.6.2"
  }
 },
 "nbformat": 4,
 "nbformat_minor": 2
}
